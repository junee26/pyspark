{
  "nbformat": 4,
  "nbformat_minor": 0,
  "metadata": {
    "colab": {
      "provenance": []
    },
    "kernelspec": {
      "name": "python3",
      "display_name": "Python 3"
    },
    "language_info": {
      "name": "python"
    }
  },
  "cells": [
    {
      "cell_type": "code",
      "execution_count": null,
      "metadata": {
        "colab": {
          "base_uri": "https://localhost:8080/"
        },
        "id": "QAB5LDI7wPQK",
        "outputId": "8f5d7887-915f-492a-ac72-4bca3ff3ee6c"
      },
      "outputs": [
        {
          "output_type": "stream",
          "name": "stdout",
          "text": [
            "Looking in indexes: https://pypi.org/simple, https://us-python.pkg.dev/colab-wheels/public/simple/\n",
            "Collecting pyspark\n",
            "  Downloading pyspark-3.4.0.tar.gz (310.8 MB)\n",
            "\u001b[2K     \u001b[90m━━━━━━━━━━━━━━━━━━━━━━━━━━━━━━━━━━━━━━━\u001b[0m \u001b[32m310.8/310.8 MB\u001b[0m \u001b[31m3.5 MB/s\u001b[0m eta \u001b[36m0:00:00\u001b[0m\n",
            "\u001b[?25h  Preparing metadata (setup.py) ... \u001b[?25l\u001b[?25hdone\n",
            "Requirement already satisfied: py4j==0.10.9.7 in /usr/local/lib/python3.9/dist-packages (from pyspark) (0.10.9.7)\n",
            "Building wheels for collected packages: pyspark\n",
            "  Building wheel for pyspark (setup.py) ... \u001b[?25l\u001b[?25hdone\n",
            "  Created wheel for pyspark: filename=pyspark-3.4.0-py2.py3-none-any.whl size=311317145 sha256=62d0a23f5079788617ad977620ebf31ac43d8213cf3d9a1fa76175d1360b6c3e\n",
            "  Stored in directory: /root/.cache/pip/wheels/9f/34/a4/159aa12d0a510d5ff7c8f0220abbea42e5d81ecf588c4fd884\n",
            "Successfully built pyspark\n",
            "Installing collected packages: pyspark\n",
            "Successfully installed pyspark-3.4.0\n"
          ]
        }
      ],
      "source": [
        "pip install pyspark"
      ]
    },
    {
      "cell_type": "code",
      "source": [
        "from pyspark.sql import SparkSession\n",
        "spark = SparkSession.builder.appName(\"Sorting\").getOrCreate()"
      ],
      "metadata": {
        "id": "6iJTmvE0wlPg"
      },
      "execution_count": null,
      "outputs": []
    },
    {
      "cell_type": "code",
      "source": [
        "#Created Datframe sample_df\"\"\n",
        "simpleData = [(\"James\",\"Sales\",\"NY\",90000,34,10000), \\\n",
        "    (\"Michael\",\"Sales\",\"NY\",86000,56,20000), \\\n",
        "    (\"Robert\",\"Sales\",\"CA\",81000,30,23000), \\\n",
        "    (\"Maria\",\"Finance\",\"CA\",90000,24,23000), \\\n",
        "    (\"Raman\",\"Finance\",\"CA\",99000,40,24000), \\\n",
        "    (\"Scott\",\"Finance\",\"NY\",83000,36,19000), \\\n",
        "    (\"Jen\",\"Finance\",\"NY\",79000,53,15000), \\\n",
        "    (\"Jeff\",\"Marketing\",\"CA\",80000,25,18000), \\\n",
        "    (\"Kumar\",\"Marketing\",\"NY\",91000,50,21000) \\\n",
        "  ]\n",
        "columns = [\"firstname\",\"department\",\"state\",\"salary\",\"age\", \"bonus\"]\n",
        "sample_df = spark.createDataFrame(simpleData,  columns)\n",
        "sample_df.show()"
      ],
      "metadata": {
        "colab": {
          "base_uri": "https://localhost:8080/"
        },
        "id": "HCrsxIpVxG-O",
        "outputId": "ffbedf07-0e60-44c3-9e3c-a3796c01f868"
      },
      "execution_count": null,
      "outputs": [
        {
          "output_type": "stream",
          "name": "stdout",
          "text": [
            "+---------+----------+-----+------+---+-----+\n",
            "|firstname|department|state|salary|age|bonys|\n",
            "+---------+----------+-----+------+---+-----+\n",
            "|    James|     Sales|   NY| 90000| 34|10000|\n",
            "|  Michael|     Sales|   NY| 86000| 56|20000|\n",
            "|   Robert|     Sales|   CA| 81000| 30|23000|\n",
            "|    Maria|   Finance|   CA| 90000| 24|23000|\n",
            "|    Raman|   Finance|   CA| 99000| 40|24000|\n",
            "|    Scott|   Finance|   NY| 83000| 36|19000|\n",
            "|      Jen|   Finance|   NY| 79000| 53|15000|\n",
            "|     Jeff| Marketing|   CA| 80000| 25|18000|\n",
            "|    Kumar| Marketing|   NY| 91000| 50|21000|\n",
            "+---------+----------+-----+------+---+-----+\n",
            "\n"
          ]
        }
      ]
    },
    {
      "cell_type": "code",
      "source": [
        "#Using SQL ORDER BY ASC interms of firtsname\n",
        "# register the DataFrame as a temporary view\n",
        "sample_df.createOrReplaceTempView(\"temp_view\")\n",
        "\n",
        "# sort the DataFrame by the \"firstname\" column in ascending order\n",
        "df_sorted = spark.sql(\"SELECT * FROM temp_view ORDER BY firstname\")\n",
        "\n",
        "# show the sorted DataFrame\n",
        "df_sorted.show()"
      ],
      "metadata": {
        "colab": {
          "base_uri": "https://localhost:8080/"
        },
        "id": "5hhcoBTExn74",
        "outputId": "21d051dc-3132-41dd-8e89-edcb8221c619"
      },
      "execution_count": null,
      "outputs": [
        {
          "output_type": "stream",
          "name": "stdout",
          "text": [
            "+---------+----------+-----+------+---+-----+\n",
            "|firstname|department|state|salary|age|bonys|\n",
            "+---------+----------+-----+------+---+-----+\n",
            "|    James|     Sales|   NY| 90000| 34|10000|\n",
            "|     Jeff| Marketing|   CA| 80000| 25|18000|\n",
            "|      Jen|   Finance|   NY| 79000| 53|15000|\n",
            "|    Kumar| Marketing|   NY| 91000| 50|21000|\n",
            "|    Maria|   Finance|   CA| 90000| 24|23000|\n",
            "|  Michael|     Sales|   NY| 86000| 56|20000|\n",
            "|    Raman|   Finance|   CA| 99000| 40|24000|\n",
            "|   Robert|     Sales|   CA| 81000| 30|23000|\n",
            "|    Scott|   Finance|   NY| 83000| 36|19000|\n",
            "+---------+----------+-----+------+---+-----+\n",
            "\n"
          ]
        }
      ]
    },
    {
      "cell_type": "code",
      "source": [
        "#Used orderBy function \n",
        "import pyspark.sql.functions as F\n",
        "df_sorted = sample_df.orderBy(F.asc('firstname'))\n",
        "\n",
        "# show the sorted DataFrame\n",
        "df_sorted.show()"
      ],
      "metadata": {
        "colab": {
          "base_uri": "https://localhost:8080/"
        },
        "id": "TfYxKq8pxbf1",
        "outputId": "1021a5b1-b6bf-4a5c-a9e5-cbf1a57068c6"
      },
      "execution_count": null,
      "outputs": [
        {
          "output_type": "stream",
          "name": "stdout",
          "text": [
            "+---------+----------+-----+------+---+-----+\n",
            "|firstname|department|state|salary|age|bonys|\n",
            "+---------+----------+-----+------+---+-----+\n",
            "|    James|     Sales|   NY| 90000| 34|10000|\n",
            "|     Jeff| Marketing|   CA| 80000| 25|18000|\n",
            "|      Jen|   Finance|   NY| 79000| 53|15000|\n",
            "|    Kumar| Marketing|   NY| 91000| 50|21000|\n",
            "|    Maria|   Finance|   CA| 90000| 24|23000|\n",
            "|  Michael|     Sales|   NY| 86000| 56|20000|\n",
            "|    Raman|   Finance|   CA| 99000| 40|24000|\n",
            "|   Robert|     Sales|   CA| 81000| 30|23000|\n",
            "|    Scott|   Finance|   NY| 83000| 36|19000|\n",
            "+---------+----------+-----+------+---+-----+\n",
            "\n"
          ]
        }
      ]
    },
    {
      "cell_type": "code",
      "source": [
        "#Used asc function \n",
        "from pyspark.sql.functions import asc\n",
        "\n",
        "sorted_df = sample_df.orderBy(asc(\"firstname\"))\n",
        "sorted_df.show()"
      ],
      "metadata": {
        "colab": {
          "base_uri": "https://localhost:8080/"
        },
        "id": "QTExYBZJyFnI",
        "outputId": "0c1778a9-c170-49dc-f58d-6c2a6fab733d"
      },
      "execution_count": null,
      "outputs": [
        {
          "output_type": "stream",
          "name": "stdout",
          "text": [
            "+---------+----------+-----+------+---+-----+\n",
            "|firstname|department|state|salary|age|bonys|\n",
            "+---------+----------+-----+------+---+-----+\n",
            "|    James|     Sales|   NY| 90000| 34|10000|\n",
            "|     Jeff| Marketing|   CA| 80000| 25|18000|\n",
            "|      Jen|   Finance|   NY| 79000| 53|15000|\n",
            "|    Kumar| Marketing|   NY| 91000| 50|21000|\n",
            "|    Maria|   Finance|   CA| 90000| 24|23000|\n",
            "|  Michael|     Sales|   NY| 86000| 56|20000|\n",
            "|    Raman|   Finance|   CA| 99000| 40|24000|\n",
            "|   Robert|     Sales|   CA| 81000| 30|23000|\n",
            "|    Scott|   Finance|   NY| 83000| 36|19000|\n",
            "+---------+----------+-----+------+---+-----+\n",
            "\n"
          ]
        }
      ]
    },
    {
      "cell_type": "code",
      "source": [
        "simpleData = [(\"James\",\"Sales\",\"NY\",90000,34,10000), \\\n",
        "    (\"Michael\",\"Sales\",\"NY\",86000,56,20000), \\\n",
        "    (\"Robert\",\"Sales\",\"CA\",81000,30,23000), \\\n",
        "    (\"Maria\",\"Finance\",\"CA\",90000,24,23000) \\\n",
        "  ]\n",
        "simpleData2 = [(\"James\",\"Sales\",\"NY\",90000,34,10000), \\\n",
        "    (\"Maria\",\"Finance\",\"CA\",90000,24,23000), \\\n",
        "    (\"Jen\",\"Finance\",\"NY\",79000,53,15000), \\\n",
        "    (\"Jeff\",\"Marketing\",\"CA\",80000,25,18000), \\\n",
        "    (\"Kumar\",\"Marketing\",\"NY\",91000,50,21000) \\\n",
        "  ]\n",
        "column_12 = [\"firstname\",\"department\",\"state\",\"salary\",\"age\", \"bonus\"]\n",
        "  # create dataset1\n",
        "dataset1 = spark.createDataFrame(simpleData, column_12)\n",
        "\n",
        "# create dataset2\n",
        "dataset2 = spark.createDataFrame(simpleData2, column_12)\n",
        "\n",
        "# merge dataset1 and dataset2 based on commonKey\n",
        "merged_dataset = dataset1.join(dataset2, on=\"firstname\", how=\"outer\")\n",
        "\n",
        "# display the merged dataset\n",
        "merged_dataset.show()"
      ],
      "metadata": {
        "id": "eSWeKrSm1imB",
        "colab": {
          "base_uri": "https://localhost:8080/"
        },
        "outputId": "aaeb6d0c-fa19-411f-c835-26cd067aefdf"
      },
      "execution_count": null,
      "outputs": [
        {
          "output_type": "stream",
          "name": "stdout",
          "text": [
            "+---------+----------+-----+------+----+-----+----------+-----+------+----+-----+\n",
            "|firstname|department|state|salary| age|bonus|department|state|salary| age|bonus|\n",
            "+---------+----------+-----+------+----+-----+----------+-----+------+----+-----+\n",
            "|    James|     Sales|   NY| 90000|  34|10000|     Sales|   NY| 90000|  34|10000|\n",
            "|     Jeff|      null| null|  null|null| null| Marketing|   CA| 80000|  25|18000|\n",
            "|      Jen|      null| null|  null|null| null|   Finance|   NY| 79000|  53|15000|\n",
            "|    Kumar|      null| null|  null|null| null| Marketing|   NY| 91000|  50|21000|\n",
            "|    Maria|   Finance|   CA| 90000|  24|23000|   Finance|   CA| 90000|  24|23000|\n",
            "|  Michael|     Sales|   NY| 86000|  56|20000|      null| null|  null|null| null|\n",
            "|   Robert|     Sales|   CA| 81000|  30|23000|      null| null|  null|null| null|\n",
            "+---------+----------+-----+------+----+-----+----------+-----+------+----+-----+\n",
            "\n"
          ]
        }
      ]
    },
    {
      "cell_type": "code",
      "source": [
        "merged_dataset = dataset1.union(dataset2)\n",
        "# display the merged dataset\n",
        "merged_dataset.show()"
      ],
      "metadata": {
        "colab": {
          "base_uri": "https://localhost:8080/"
        },
        "id": "0WRlbXr32fHZ",
        "outputId": "320b37b1-f122-468c-b500-c895994b7bc1"
      },
      "execution_count": null,
      "outputs": [
        {
          "output_type": "stream",
          "name": "stdout",
          "text": [
            "+---------+----------+-----+------+---+-----+\n",
            "|firstname|department|state|salary|age|bonus|\n",
            "+---------+----------+-----+------+---+-----+\n",
            "|    James|     Sales|   NY| 90000| 34|10000|\n",
            "|  Michael|     Sales|   NY| 86000| 56|20000|\n",
            "|   Robert|     Sales|   CA| 81000| 30|23000|\n",
            "|    Maria|   Finance|   CA| 90000| 24|23000|\n",
            "|    James|     Sales|   NY| 90000| 34|10000|\n",
            "|    Maria|   Finance|   CA| 90000| 24|23000|\n",
            "|      Jen|   Finance|   NY| 79000| 53|15000|\n",
            "|     Jeff| Marketing|   CA| 80000| 25|18000|\n",
            "|    Kumar| Marketing|   NY| 91000| 50|21000|\n",
            "+---------+----------+-----+------+---+-----+\n",
            "\n"
          ]
        }
      ]
    },
    {
      "cell_type": "code",
      "source": [
        "# merge dataset1 and dataset2 without repeating same rows\n",
        "merged_dataset = dataset1.union(dataset2).dropDuplicates([\"firstname\"])\n",
        "merged_dataset.show()"
      ],
      "metadata": {
        "colab": {
          "base_uri": "https://localhost:8080/"
        },
        "id": "e8ynlB6S3ZvD",
        "outputId": "00868260-db8a-4e67-f485-218dbd6f05f2"
      },
      "execution_count": null,
      "outputs": [
        {
          "output_type": "stream",
          "name": "stdout",
          "text": [
            "+---------+----------+-----+------+---+-----+\n",
            "|firstname|department|state|salary|age|bonus|\n",
            "+---------+----------+-----+------+---+-----+\n",
            "|    James|     Sales|   NY| 90000| 34|10000|\n",
            "|     Jeff| Marketing|   CA| 80000| 25|18000|\n",
            "|      Jen|   Finance|   NY| 79000| 53|15000|\n",
            "|    Kumar| Marketing|   NY| 91000| 50|21000|\n",
            "|    Maria|   Finance|   CA| 90000| 24|23000|\n",
            "|  Michael|     Sales|   NY| 86000| 56|20000|\n",
            "|   Robert|     Sales|   CA| 81000| 30|23000|\n",
            "+---------+----------+-----+------+---+-----+\n",
            "\n"
          ]
        }
      ]
    },
    {
      "cell_type": "code",
      "source": [
        "merged_dataset = dataset1.union(dataset2).distinct()\n",
        "merged_dataset.show()"
      ],
      "metadata": {
        "colab": {
          "base_uri": "https://localhost:8080/"
        },
        "id": "s-K2oVip4Vfc",
        "outputId": "00e4e112-9acd-4891-b322-27de9a6fbf9e"
      },
      "execution_count": null,
      "outputs": [
        {
          "output_type": "stream",
          "name": "stdout",
          "text": [
            "+---------+----------+-----+------+---+-----+\n",
            "|firstname|department|state|salary|age|bonus|\n",
            "+---------+----------+-----+------+---+-----+\n",
            "|    James|     Sales|   NY| 90000| 34|10000|\n",
            "|  Michael|     Sales|   NY| 86000| 56|20000|\n",
            "|    Maria|   Finance|   CA| 90000| 24|23000|\n",
            "|   Robert|     Sales|   CA| 81000| 30|23000|\n",
            "|    Kumar| Marketing|   NY| 91000| 50|21000|\n",
            "|      Jen|   Finance|   NY| 79000| 53|15000|\n",
            "|     Jeff| Marketing|   CA| 80000| 25|18000|\n",
            "+---------+----------+-----+------+---+-----+\n",
            "\n"
          ]
        }
      ]
    },
    {
      "cell_type": "code",
      "source": [
        "merged_dataset = dataset1.union(dataset2).dropDuplicates()\n",
        "merged_dataset.show()"
      ],
      "metadata": {
        "id": "Fg3-uUN-6Af3"
      },
      "execution_count": null,
      "outputs": []
    },
    {
      "cell_type": "code",
      "source": [
        "dataset1.createOrReplaceTempView(\"table1\")\n",
        "dataset2.createOrReplaceTempView(\"table2\")\n",
        "# merge df1 and df2 using SQL UNION\n",
        "merged_df = spark.sql(\"SELECT * FROM table1 UNION SELECT * FROM table2\")\n",
        "\n",
        "# display the merged dataframe\n",
        "merged_df.show()"
      ],
      "metadata": {
        "colab": {
          "base_uri": "https://localhost:8080/"
        },
        "id": "7ijXcCJi440u",
        "outputId": "fa92a05a-79a0-4fa5-fcfc-16bdb06f2932"
      },
      "execution_count": null,
      "outputs": [
        {
          "output_type": "stream",
          "name": "stdout",
          "text": [
            "+---------+----------+-----+------+---+-----+\n",
            "|firstname|department|state|salary|age|bonus|\n",
            "+---------+----------+-----+------+---+-----+\n",
            "|  Michael|     Sales|   NY| 86000| 56|20000|\n",
            "|    James|     Sales|   NY| 90000| 34|10000|\n",
            "|    Maria|   Finance|   CA| 90000| 24|23000|\n",
            "|   Robert|     Sales|   CA| 81000| 30|23000|\n",
            "|    Kumar| Marketing|   NY| 91000| 50|21000|\n",
            "|      Jen|   Finance|   NY| 79000| 53|15000|\n",
            "|     Jeff| Marketing|   CA| 80000| 25|18000|\n",
            "+---------+----------+-----+------+---+-----+\n",
            "\n"
          ]
        }
      ]
    },
    {
      "cell_type": "code",
      "source": [
        "simpleData1 = [(\"James\",\"Sales\",\"NY\",90000,34,10000), \\\n",
        "    (\"Michael\",\"Sales\",\"NY\",86000,56,20000), \\\n",
        "    (\"Robert\",\"Sales\",\"CA\",81000,30,23000), \\\n",
        "    (\"Maria\",\"Finance\",\"CA\",90000,24,23000) \\\n",
        "]\n",
        "simpleData2 = [(\"James\",\"Sales\",90000,34,10000), \\\n",
        "    (\"Maria\",\"Finance\",90000,24,23000), \\\n",
        "    (\"Jen\",\"Finance\",79000,53,15000), \\\n",
        "    (\"Jeff\",\"Marketing\",80000,25,18000), \\\n",
        "    (\"Kumar\",\"Marketing\",91000,50,21000) \\\n",
        "]\n",
        "column_1 = [\"firstname\",\"department\",\"state\",\"salary\",\"age\", \"bonus\"]\n",
        "column_2 = [\"firstname\",\"department\",\"salary\",\"age\", \"bonus\"]\n",
        "\n",
        "# create dataset1\n",
        "dataset1 = spark.createDataFrame(simpleData1, column_1)\n",
        "\n",
        "# create dataset2\n",
        "dataset2 = spark.createDataFrame(simpleData2, column_2)\n"
      ],
      "metadata": {
        "id": "ncVIPe4E6SrV"
      },
      "execution_count": null,
      "outputs": []
    },
    {
      "cell_type": "code",
      "source": [
        "mergedData = dataset1.unionByName(dataset2, allowMissingColumns=True)\n",
        "mergedData.show()"
      ],
      "metadata": {
        "colab": {
          "base_uri": "https://localhost:8080/"
        },
        "id": "even9YKgE0zb",
        "outputId": "cb89792d-3b20-400b-af2e-72c9ae8a8784"
      },
      "execution_count": null,
      "outputs": [
        {
          "output_type": "stream",
          "name": "stdout",
          "text": [
            "+---------+----------+-----+------+---+-----+\n",
            "|firstname|department|state|salary|age|bonus|\n",
            "+---------+----------+-----+------+---+-----+\n",
            "|    James|     Sales|   NY| 90000| 34|10000|\n",
            "|  Michael|     Sales|   NY| 86000| 56|20000|\n",
            "|   Robert|     Sales|   CA| 81000| 30|23000|\n",
            "|    Maria|   Finance|   CA| 90000| 24|23000|\n",
            "|    James|     Sales| null| 90000| 34|10000|\n",
            "|    Maria|   Finance| null| 90000| 24|23000|\n",
            "|      Jen|   Finance| null| 79000| 53|15000|\n",
            "|     Jeff| Marketing| null| 80000| 25|18000|\n",
            "|    Kumar| Marketing| null| 91000| 50|21000|\n",
            "+---------+----------+-----+------+---+-----+\n",
            "\n"
          ]
        }
      ]
    },
    {
      "cell_type": "code",
      "source": [
        "dataset2 = dataset2.withColumn('state', lit(None))\n",
        "merge_df = dataset1.union(dataset2)\n",
        "merge_df.show()"
      ],
      "metadata": {
        "colab": {
          "base_uri": "https://localhost:8080/"
        },
        "id": "jcEnRek5F5pH",
        "outputId": "feebf2e6-e5d6-49da-c286-ac58086921bc"
      },
      "execution_count": null,
      "outputs": [
        {
          "output_type": "stream",
          "name": "stdout",
          "text": [
            "+---------+----------+-----+------+---+-----+\n",
            "|firstname|department|state|salary|age|bonus|\n",
            "+---------+----------+-----+------+---+-----+\n",
            "|    James|     Sales|   NY| 90000| 34|10000|\n",
            "|  Michael|     Sales|   NY| 86000| 56|20000|\n",
            "|   Robert|     Sales|   CA| 81000| 30|23000|\n",
            "|    Maria|   Finance|   CA| 90000| 24|23000|\n",
            "|    James|     Sales| null| 90000| 34|10000|\n",
            "|    Maria|   Finance| null| 90000| 24|23000|\n",
            "|      Jen|   Finance| null| 79000| 53|15000|\n",
            "|     Jeff| Marketing| null| 80000| 25|18000|\n",
            "|    Kumar| Marketing| null| 91000| 50|21000|\n",
            "+---------+----------+-----+------+---+-----+\n",
            "\n"
          ]
        }
      ]
    },
    {
      "cell_type": "code",
      "source": [
        "# merge dataset1 and dataset2 on the \"id\" column'\n",
        "merged_dataset = dataset1.join(dataset2, [\"firstname\", \"department\", \"state\", \"salary\", \"age\", \"bonus\"  ], how=\"outer\")\n",
        "\n",
        "# display the merged dataset\n",
        "merged_dataset.show()"
      ],
      "metadata": {
        "colab": {
          "base_uri": "https://localhost:8080/"
        },
        "id": "nKufnuHS8bKU",
        "outputId": "14e4db35-6a97-4790-8c49-5a53ab94591a"
      },
      "execution_count": null,
      "outputs": [
        {
          "output_type": "stream",
          "name": "stdout",
          "text": [
            "+---------+----------+-----+------+---+-----+\n",
            "|firstname|department|state|salary|age|bonus|\n",
            "+---------+----------+-----+------+---+-----+\n",
            "|    James|     Sales| null| 90000| 34|10000|\n",
            "|    Maria|   Finance| null| 90000| 24|23000|\n",
            "|      Jen|   Finance| null| 79000| 53|15000|\n",
            "|     Jeff| Marketing| null| 80000| 25|18000|\n",
            "|    Kumar| Marketing| null| 91000| 50|21000|\n",
            "|    James|     Sales|   NY| 90000| 34|10000|\n",
            "|  Michael|     Sales|   NY| 86000| 56|20000|\n",
            "|   Robert|     Sales|   CA| 81000| 30|23000|\n",
            "|    Maria|   Finance|   CA| 90000| 24|23000|\n",
            "+---------+----------+-----+------+---+-----+\n",
            "\n"
          ]
        }
      ]
    },
    {
      "cell_type": "code",
      "source": [
        "#Add missing columns 'state' & 'salary' to df1\n",
        "from pyspark.sql.functions import lit\n",
        "for column in [column for column in dataset2.columns if column not in dataset1.columns]:\n",
        "    dataset1 = dataset1.withColumn(column, lit(None))\n",
        "\n",
        "#Add missing column 'age' to df2\n",
        "for column in [column for column in dataset1.columns if column not in dataset2.columns]:\n",
        "    dataset2 = dataset2.withColumn(column, lit(None))"
      ],
      "metadata": {
        "id": "SMudJ1ep9rwT"
      },
      "execution_count": null,
      "outputs": []
    },
    {
      "cell_type": "code",
      "source": [
        "#Finally join two dataframe's df1 & df2 by name\n",
        "merged_df=dataset1.unionByName(dataset2)\n",
        "merged_df.show()"
      ],
      "metadata": {
        "colab": {
          "base_uri": "https://localhost:8080/"
        },
        "id": "mWe67Hl7-hj8",
        "outputId": "ad9d7632-9289-4e87-e23b-836072dd3e70"
      },
      "execution_count": null,
      "outputs": [
        {
          "output_type": "stream",
          "name": "stdout",
          "text": [
            "+---------+----------+-----+------+---+-----+\n",
            "|firstname|department|state|salary|age|bonus|\n",
            "+---------+----------+-----+------+---+-----+\n",
            "|    James|     Sales|   NY| 90000| 34|10000|\n",
            "|  Michael|     Sales|   NY| 86000| 56|20000|\n",
            "|   Robert|     Sales|   CA| 81000| 30|23000|\n",
            "|    Maria|   Finance|   CA| 90000| 24|23000|\n",
            "|    James|     Sales| null| 90000| 34|10000|\n",
            "|    Maria|   Finance| null| 90000| 24|23000|\n",
            "|      Jen|   Finance| null| 79000| 53|15000|\n",
            "|     Jeff| Marketing| null| 80000| 25|18000|\n",
            "|    Kumar| Marketing| null| 91000| 50|21000|\n",
            "+---------+----------+-----+------+---+-----+\n",
            "\n"
          ]
        }
      ]
    },
    {
      "cell_type": "code",
      "source": [
        "# Join the dataframes on the common column\n",
        "merged_df = dataset2.join(dataset1.select(\"firstname\", \"state\"), \"firstname\", \"left\")\n",
        "\n",
        "# Show the merged dataframe\n",
        "merged_df.show()"
      ],
      "metadata": {
        "colab": {
          "base_uri": "https://localhost:8080/"
        },
        "id": "73ENpkjt-lBB",
        "outputId": "9030988f-3eed-4200-eac2-8b1351fd6f94"
      },
      "execution_count": null,
      "outputs": [
        {
          "output_type": "stream",
          "name": "stdout",
          "text": [
            "+---------+----------+------+---+-----+-----+-----+\n",
            "|firstname|department|salary|age|bonus|state|state|\n",
            "+---------+----------+------+---+-----+-----+-----+\n",
            "|    James|     Sales| 90000| 34|10000| null|   NY|\n",
            "|    Maria|   Finance| 90000| 24|23000| null|   CA|\n",
            "|      Jen|   Finance| 79000| 53|15000| null| null|\n",
            "|    Kumar| Marketing| 91000| 50|21000| null| null|\n",
            "|     Jeff| Marketing| 80000| 25|18000| null| null|\n",
            "+---------+----------+------+---+-----+-----+-----+\n",
            "\n"
          ]
        }
      ]
    },
    {
      "cell_type": "code",
      "source": [
        "# Create DataFrames with different column names\n",
        "df1 = spark.createDataFrame([[5, 2, 6]], [\"col0\", \"col1\", \"col2\"])\n",
        "df2 = spark.createDataFrame([[6, 7]], [\"col1\", \"col4\"])\n",
        "\n",
        "# Using allowMissingColumns\n",
        "df3 = df1.unionByName(df2, allowMissingColumns=True)\n",
        "df3.printSchema\n",
        "df3.show()"
      ],
      "metadata": {
        "colab": {
          "base_uri": "https://localhost:8080/"
        },
        "id": "bxWO-1SdBEd2",
        "outputId": "65ce9778-5e79-449c-b440-d014f115e35e"
      },
      "execution_count": null,
      "outputs": [
        {
          "output_type": "stream",
          "name": "stdout",
          "text": [
            "+----+----+----+----+\n",
            "|col0|col1|col2|col4|\n",
            "+----+----+----+----+\n",
            "|   5|   2|   6|null|\n",
            "|null|   6|null|   7|\n",
            "+----+----+----+----+\n",
            "\n"
          ]
        }
      ]
    },
    {
      "cell_type": "code",
      "source": [
        "#here df1 and df2 has same column with same oredering,df3 have diff ordering from df1 and df2 and df4 hav diff schema\n",
        "df1 = spark.read.csv(\"data1.csv\", header=True)\n",
        "df2 = spark.read.csv(\"data2.csv\", header=True)\n",
        "df3 = spark.read.csv(\"data3.csv\", header=True)\n",
        "df4 = spark.read.csv(\"data4.csv\", header=True)\n",
        "df1.show()"
      ],
      "metadata": {
        "colab": {
          "base_uri": "https://localhost:8080/"
        },
        "id": "pT9l6d7iGlvP",
        "outputId": "91960d2b-9969-42c0-99ec-ff405c8fdf45"
      },
      "execution_count": null,
      "outputs": [
        {
          "output_type": "stream",
          "name": "stdout",
          "text": [
            "+--------+---+--------------------+-------------+\n",
            "|    Name|Age|          Department|        State|\n",
            "+--------+---+--------------------+-------------+\n",
            "|  Olivia| 30|            Services|     Telemark|\n",
            "|  Archie| 50|Research and Deve...|         null|\n",
            "|     Ike| 83|               Sales|         null|\n",
            "| Eulalie|  5|           Marketing|         null|\n",
            "|  Marina| 25|         Engineering|         null|\n",
            "|Greggory| 79|               Sales|         null|\n",
            "|Thatcher|  3|               Sales|Île-de-France|\n",
            "|  Haroun| 51|  Product Management|         null|\n",
            "|  Aeriel| 38|               Legal|         null|\n",
            "|   Shirl| 73|Business Development|         null|\n",
            "+--------+---+--------------------+-------------+\n",
            "\n"
          ]
        }
      ]
    },
    {
      "cell_type": "code",
      "source": [
        "df3.show()"
      ],
      "metadata": {
        "colab": {
          "base_uri": "https://localhost:8080/"
        },
        "id": "vF8RCgRNLjeL",
        "outputId": "5d27bc18-a230-4e4a-d47c-28b6b9c5fc3b"
      },
      "execution_count": null,
      "outputs": [
        {
          "output_type": "stream",
          "name": "stdout",
          "text": [
            "+---------+--------------------+---+-------+\n",
            "|     Name|          Department|Age|  State|\n",
            "+---------+--------------------+---+-------+\n",
            "|    Monte|               Sales| 35|   null|\n",
            "|  Carilyn|     Human Resources| 62|   null|\n",
            "|    Sylas|            Services| 74|   null|\n",
            "|Cristiano|             Support|  4|   null|\n",
            "|    Rabbi|Research and Deve...| 73|  Braga|\n",
            "|    Herta|            Services| 61|   null|\n",
            "|   Hermia|               Legal| 53|   null|\n",
            "|    Conny|           Marketing| 63|Setúbal|\n",
            "|     Amby|               Legal| 33|   null|\n",
            "| Henrieta|Business Development| 93|  Porto|\n",
            "+---------+--------------------+---+-------+\n",
            "\n"
          ]
        }
      ]
    },
    {
      "cell_type": "code",
      "source": [
        "merged_df1_2 = df1.union(df2)\n",
        "merged_df1_2.show()"
      ],
      "metadata": {
        "colab": {
          "base_uri": "https://localhost:8080/"
        },
        "id": "R7c7F9VsLbHE",
        "outputId": "699b4995-4496-4655-8952-f2b2a42b753b"
      },
      "execution_count": null,
      "outputs": [
        {
          "output_type": "stream",
          "name": "stdout",
          "text": [
            "+-----------+---+--------------------+-------------+\n",
            "|       Name|Age|          Department|        State|\n",
            "+-----------+---+--------------------+-------------+\n",
            "|     Olivia| 30|            Services|     Telemark|\n",
            "|     Archie| 50|Research and Deve...|         null|\n",
            "|        Ike| 83|               Sales|         null|\n",
            "|    Eulalie|  5|           Marketing|         null|\n",
            "|     Marina| 25|         Engineering|         null|\n",
            "|   Greggory| 79|               Sales|         null|\n",
            "|   Thatcher|  3|               Sales|Île-de-France|\n",
            "|     Haroun| 51|  Product Management|         null|\n",
            "|     Aeriel| 38|               Legal|         null|\n",
            "|      Shirl| 73|Business Development|         null|\n",
            "|       Nola| 28|     Human Resources|         null|\n",
            "|     Marlin|100|               Legal|         null|\n",
            "|     Dannel| 61|             Support|         null|\n",
            "|        Pat| 17|             Support|         null|\n",
            "|      Retha| 64|     Human Resources|         null|\n",
            "|     Cazzie| 49|Business Development|         null|\n",
            "|Christoffer| 83|            Services|         null|\n",
            "|    Nicolai| 60|               Legal|         null|\n",
            "|      Tildi| 74|            Training|         null|\n",
            "|    Emerson| 54|         Engineering|         null|\n",
            "+-----------+---+--------------------+-------------+\n",
            "\n"
          ]
        }
      ]
    },
    {
      "cell_type": "code",
      "source": [
        "df4.show()"
      ],
      "metadata": {
        "colab": {
          "base_uri": "https://localhost:8080/"
        },
        "id": "YZdfrhHfMiYw",
        "outputId": "4e067526-71b8-43a0-8720-29b6eb4be6c7"
      },
      "execution_count": null,
      "outputs": [
        {
          "output_type": "stream",
          "name": "stdout",
          "text": [
            "+------+---+--------------------+\n",
            "|  Name|Age|          Department|\n",
            "+------+---+--------------------+\n",
            "|   Lea| 44|             Support|\n",
            "|Thatch| 35|Business Development|\n",
            "|Darcie| 38|  Product Management|\n",
            "|Carmon| 81|               Legal|\n",
            "| Nikki|  7|         Engineering|\n",
            "|   Ram| 15|               Legal|\n",
            "| Datha| 11|               Sales|\n",
            "|Bobbie| 32|         Engineering|\n",
            "| Cross| 70|Research and Deve...|\n",
            "|Goraud| 26|           Marketing|\n",
            "+------+---+--------------------+\n",
            "\n"
          ]
        }
      ]
    },
    {
      "cell_type": "code",
      "source": [
        "df1.show()"
      ],
      "metadata": {
        "colab": {
          "base_uri": "https://localhost:8080/"
        },
        "id": "6-SBCTydMnFg",
        "outputId": "5f8ec1fb-494d-4628-86cf-7e73e5f2da98"
      },
      "execution_count": null,
      "outputs": [
        {
          "output_type": "stream",
          "name": "stdout",
          "text": [
            "+--------+----+--------------------+-------------+\n",
            "|    Name|Age |          Department|        State|\n",
            "+--------+----+--------------------+-------------+\n",
            "|  Olivia|  30|            Services|     Telemark|\n",
            "|  Archie|  50|Research and Deve...|         null|\n",
            "|     Ike|  83|               Sales|         null|\n",
            "| Eulalie|   5|           Marketing|         null|\n",
            "|  Marina|  25|         Engineering|         null|\n",
            "|Greggory|  79|               Sales|         null|\n",
            "|Thatcher|   3|               Sales|Île-de-France|\n",
            "|  Haroun|  51|  Product Management|         null|\n",
            "|  Aeriel|  38|               Legal|         null|\n",
            "|   Shirl|  73|Business Development|         null|\n",
            "+--------+----+--------------------+-------------+\n",
            "\n"
          ]
        }
      ]
    },
    {
      "cell_type": "code",
      "source": [
        "#Data1 and data 3 have dif data order\n",
        "merged_df1_3 = df1.unionByName(df3, allowMissingColumns=True)\n",
        "merged_df1_3.show()"
      ],
      "metadata": {
        "colab": {
          "base_uri": "https://localhost:8080/"
        },
        "id": "wbZRaRl_Ru-S",
        "outputId": "d7f6ebdc-103f-499e-81cb-90800d19d551"
      },
      "execution_count": null,
      "outputs": [
        {
          "output_type": "stream",
          "name": "stdout",
          "text": [
            "+---------+---+--------------------+-------------+\n",
            "|     Name|Age|          Department|        State|\n",
            "+---------+---+--------------------+-------------+\n",
            "|   Olivia| 30|            Services|     Telemark|\n",
            "|   Archie| 50|Research and Deve...|         null|\n",
            "|      Ike| 83|               Sales|         null|\n",
            "|  Eulalie|  5|           Marketing|         null|\n",
            "|   Marina| 25|         Engineering|         null|\n",
            "| Greggory| 79|               Sales|         null|\n",
            "| Thatcher|  3|               Sales|Île-de-France|\n",
            "|   Haroun| 51|  Product Management|         null|\n",
            "|   Aeriel| 38|               Legal|         null|\n",
            "|    Shirl| 73|Business Development|         null|\n",
            "|    Monte| 35|               Sales|         null|\n",
            "|  Carilyn| 62|     Human Resources|         null|\n",
            "|    Sylas| 74|            Services|         null|\n",
            "|Cristiano|  4|             Support|         null|\n",
            "|    Rabbi| 73|Research and Deve...|        Braga|\n",
            "|    Herta| 61|            Services|         null|\n",
            "|   Hermia| 53|               Legal|         null|\n",
            "|    Conny| 63|           Marketing|      Setúbal|\n",
            "|     Amby| 33|               Legal|         null|\n",
            "| Henrieta| 93|Business Development|        Porto|\n",
            "+---------+---+--------------------+-------------+\n",
            "\n"
          ]
        }
      ]
    },
    {
      "cell_type": "code",
      "source": [
        "#Data4 does not have state\n",
        "merged_df1_4 = df1.unionByName(df4, allowMissingColumns=True)\n",
        "merged_df1_4.show()"
      ],
      "metadata": {
        "colab": {
          "base_uri": "https://localhost:8080/"
        },
        "id": "FFRygVKiPVPu",
        "outputId": "69100fcb-6ab1-4642-a095-c299d8988727"
      },
      "execution_count": null,
      "outputs": [
        {
          "output_type": "stream",
          "name": "stdout",
          "text": [
            "+--------+---+--------------------+-------------+\n",
            "|    Name|Age|          Department|        State|\n",
            "+--------+---+--------------------+-------------+\n",
            "|  Olivia| 30|            Services|     Telemark|\n",
            "|  Archie| 50|Research and Deve...|         null|\n",
            "|     Ike| 83|               Sales|         null|\n",
            "| Eulalie|  5|           Marketing|         null|\n",
            "|  Marina| 25|         Engineering|         null|\n",
            "|Greggory| 79|               Sales|         null|\n",
            "|Thatcher|  3|               Sales|Île-de-France|\n",
            "|  Haroun| 51|  Product Management|         null|\n",
            "|  Aeriel| 38|               Legal|         null|\n",
            "|   Shirl| 73|Business Development|         null|\n",
            "|     Lea| 44|             Support|         null|\n",
            "|  Thatch| 35|Business Development|         null|\n",
            "|  Darcie| 38|  Product Management|         null|\n",
            "|  Carmon| 81|               Legal|         null|\n",
            "|   Nikki|  7|         Engineering|         null|\n",
            "|     Ram| 15|               Legal|         null|\n",
            "|   Datha| 11|               Sales|         null|\n",
            "|  Bobbie| 32|         Engineering|         null|\n",
            "|   Cross| 70|Research and Deve...|         null|\n",
            "|  Goraud| 26|           Marketing|         null|\n",
            "+--------+---+--------------------+-------------+\n",
            "\n"
          ]
        }
      ]
    },
    {
      "cell_type": "code",
      "source": [
        "dataset4 = df4.withColumn('state', lit(None))\n",
        "merge_df = df1.union(dataset4)\n",
        "merge_df.show()"
      ],
      "metadata": {
        "colab": {
          "base_uri": "https://localhost:8080/"
        },
        "id": "Pyb1u4XiP-mT",
        "outputId": "b73af976-2c33-4b9d-fa46-f61518e17c33"
      },
      "execution_count": null,
      "outputs": [
        {
          "output_type": "stream",
          "name": "stdout",
          "text": [
            "+--------+---+--------------------+-------------+\n",
            "|    Name|Age|          Department|        State|\n",
            "+--------+---+--------------------+-------------+\n",
            "|  Olivia| 30|            Services|     Telemark|\n",
            "|  Archie| 50|Research and Deve...|         null|\n",
            "|     Ike| 83|               Sales|         null|\n",
            "| Eulalie|  5|           Marketing|         null|\n",
            "|  Marina| 25|         Engineering|         null|\n",
            "|Greggory| 79|               Sales|         null|\n",
            "|Thatcher|  3|               Sales|Île-de-France|\n",
            "|  Haroun| 51|  Product Management|         null|\n",
            "|  Aeriel| 38|               Legal|         null|\n",
            "|   Shirl| 73|Business Development|         null|\n",
            "|     Lea| 44|             Support|         null|\n",
            "|  Thatch| 35|Business Development|         null|\n",
            "|  Darcie| 38|  Product Management|         null|\n",
            "|  Carmon| 81|               Legal|         null|\n",
            "|   Nikki|  7|         Engineering|         null|\n",
            "|     Ram| 15|               Legal|         null|\n",
            "|   Datha| 11|               Sales|         null|\n",
            "|  Bobbie| 32|         Engineering|         null|\n",
            "|   Cross| 70|Research and Deve...|         null|\n",
            "|  Goraud| 26|           Marketing|         null|\n",
            "+--------+---+--------------------+-------------+\n",
            "\n"
          ]
        }
      ]
    },
    {
      "cell_type": "code",
      "source": [
        "df1.show()"
      ],
      "metadata": {
        "colab": {
          "base_uri": "https://localhost:8080/"
        },
        "id": "xf8Rgi88QqmY",
        "outputId": "5f4ef00a-b559-4726-d392-5656f0b63406"
      },
      "execution_count": null,
      "outputs": [
        {
          "output_type": "stream",
          "name": "stdout",
          "text": [
            "+--------+---+--------------------+-------------+\n",
            "|    Name|Age|          Department|        State|\n",
            "+--------+---+--------------------+-------------+\n",
            "|  Olivia| 30|            Services|     Telemark|\n",
            "|  Archie| 50|Research and Deve...|         null|\n",
            "|     Ike| 83|               Sales|         null|\n",
            "| Eulalie|  5|           Marketing|         null|\n",
            "|  Marina| 25|         Engineering|         null|\n",
            "|Greggory| 79|               Sales|         null|\n",
            "|Thatcher|  3|               Sales|Île-de-France|\n",
            "|  Haroun| 51|  Product Management|         null|\n",
            "|  Aeriel| 38|               Legal|         null|\n",
            "|   Shirl| 73|Business Development|         null|\n",
            "+--------+---+--------------------+-------------+\n",
            "\n"
          ]
        }
      ]
    },
    {
      "cell_type": "code",
      "source": [
        "df1.is_cached"
      ],
      "metadata": {
        "colab": {
          "base_uri": "https://localhost:8080/"
        },
        "id": "HrGfAJD5wRBl",
        "outputId": "d02a31ec-c668-4bea-bf10-97e2118e43ee"
      },
      "execution_count": null,
      "outputs": [
        {
          "output_type": "execute_result",
          "data": {
            "text/plain": [
              "True"
            ]
          },
          "metadata": {},
          "execution_count": 124
        }
      ]
    },
    {
      "cell_type": "code",
      "source": [
        "dfPersist = df1.persist()\n",
        "dfPersist.explain()"
      ],
      "metadata": {
        "colab": {
          "base_uri": "https://localhost:8080/"
        },
        "id": "ZkfJPI3BuccM",
        "outputId": "606d5bf0-c70e-4104-8440-ed4bf2d5b706"
      },
      "execution_count": null,
      "outputs": [
        {
          "output_type": "stream",
          "name": "stdout",
          "text": [
            "== Physical Plan ==\n",
            "InMemoryTableScan [Name#2485, Age#2486, Department#2487, State#2488]\n",
            "   +- InMemoryRelation [Name#2485, Age#2486, Department#2487, State#2488], StorageLevel(disk, memory, deserialized, 1 replicas)\n",
            "         +- FileScan csv [Name#2485,Age#2486,Department#2487,State#2488] Batched: false, DataFilters: [], Format: CSV, Location: InMemoryFileIndex(1 paths)[file:/content/data1.csv], PartitionFilters: [], PushedFilters: [], ReadSchema: struct<Name:string,Age:string,Department:string,State:string>\n",
            "\n",
            "\n"
          ]
        }
      ]
    },
    {
      "cell_type": "code",
      "source": [
        "from pyspark.storagelevel import StorageLevel\n",
        "dir(StorageLevel)"
      ],
      "metadata": {
        "colab": {
          "base_uri": "https://localhost:8080/"
        },
        "id": "16EZJeSAujjm",
        "outputId": "5758a639-4487-4498-b684-a13ce3a6df2f"
      },
      "execution_count": null,
      "outputs": [
        {
          "output_type": "execute_result",
          "data": {
            "text/plain": [
              "['DISK_ONLY',\n",
              " 'DISK_ONLY_2',\n",
              " 'DISK_ONLY_3',\n",
              " 'MEMORY_AND_DISK',\n",
              " 'MEMORY_AND_DISK_2',\n",
              " 'MEMORY_AND_DISK_DESER',\n",
              " 'MEMORY_ONLY',\n",
              " 'MEMORY_ONLY_2',\n",
              " 'NONE',\n",
              " 'OFF_HEAP',\n",
              " '__annotations__',\n",
              " '__class__',\n",
              " '__delattr__',\n",
              " '__dict__',\n",
              " '__dir__',\n",
              " '__doc__',\n",
              " '__eq__',\n",
              " '__format__',\n",
              " '__ge__',\n",
              " '__getattribute__',\n",
              " '__gt__',\n",
              " '__hash__',\n",
              " '__init__',\n",
              " '__init_subclass__',\n",
              " '__le__',\n",
              " '__lt__',\n",
              " '__module__',\n",
              " '__ne__',\n",
              " '__new__',\n",
              " '__reduce__',\n",
              " '__reduce_ex__',\n",
              " '__repr__',\n",
              " '__setattr__',\n",
              " '__sizeof__',\n",
              " '__str__',\n",
              " '__subclasshook__',\n",
              " '__weakref__']"
            ]
          },
          "metadata": {},
          "execution_count": 138
        }
      ]
    },
    {
      "cell_type": "code",
      "source": [
        "dfPersist1 = df1.persist(StorageLevel.MEMORY_AND_DISK)\n",
        "dfPersist1.is_cached"
      ],
      "metadata": {
        "colab": {
          "base_uri": "https://localhost:8080/"
        },
        "id": "OIj97bKN2xiT",
        "outputId": "1ae4faba-3ab2-436b-e0ae-21376b868c8c"
      },
      "execution_count": null,
      "outputs": [
        {
          "output_type": "execute_result",
          "data": {
            "text/plain": [
              "True"
            ]
          },
          "metadata": {},
          "execution_count": 139
        }
      ]
    },
    {
      "cell_type": "code",
      "source": [
        "dfPersist1 = dfPersist1.unpersist()\n",
        "dfPersist1.is_cached"
      ],
      "metadata": {
        "colab": {
          "base_uri": "https://localhost:8080/"
        },
        "id": "GWOgc8eQvyGt",
        "outputId": "7b499902-8f4a-4644-8734-aa1388ee09a6"
      },
      "execution_count": null,
      "outputs": [
        {
          "output_type": "execute_result",
          "data": {
            "text/plain": [
              "False"
            ]
          },
          "metadata": {},
          "execution_count": 141
        }
      ]
    },
    {
      "cell_type": "code",
      "source": [
        "dfPersist1 = df1.persist(StorageLevel.DISK_ONLY)\n",
        "dfPersist1.is_cached"
      ],
      "metadata": {
        "colab": {
          "base_uri": "https://localhost:8080/"
        },
        "id": "VHn3jXV6ynzT",
        "outputId": "edb073c2-aa81-4365-b8e7-59225fbfb208"
      },
      "execution_count": null,
      "outputs": [
        {
          "output_type": "execute_result",
          "data": {
            "text/plain": [
              "True"
            ]
          },
          "metadata": {},
          "execution_count": 134
        }
      ]
    },
    {
      "cell_type": "code",
      "source": [
        "from pyspark.sql import SparkSession\n",
        "\n",
        "spark = SparkSession.builder.appName('UDF example.com').getOrCreate()\n",
        "\n",
        "columns = [\"age\",\"Name\"]\n",
        "data = [(\"1\", \"sunee\"),\n",
        "    (\"2\", \"junee\"),\n",
        "    (\"3\", \"sanam\")]\n",
        "\n",
        "df = spark.createDataFrame(data=data,schema=columns)\n",
        "\n",
        "df.show(truncate=False)"
      ],
      "metadata": {
        "colab": {
          "base_uri": "https://localhost:8080/"
        },
        "id": "qGZNJE9ryvVB",
        "outputId": "c1264534-6f85-4499-c665-280d470264a3"
      },
      "execution_count": null,
      "outputs": [
        {
          "output_type": "stream",
          "name": "stdout",
          "text": [
            "+---+-----+\n",
            "|age|Name |\n",
            "+---+-----+\n",
            "|1  |sunee|\n",
            "|2  |junee|\n",
            "|3  |sanam|\n",
            "+---+-----+\n",
            "\n"
          ]
        }
      ]
    },
    {
      "cell_type": "code",
      "source": [
        "def convertCase(str):\n",
        "    resStr=\"\"\n",
        "    arr = str.split(\" \")\n",
        "    for x in arr:\n",
        "       resStr= resStr + x[0:1].upper() + x[1:len(x)] + \" \"\n",
        "       return resStr\n",
        "    "
      ],
      "metadata": {
        "id": "UKRV06P2_JAK"
      },
      "execution_count": null,
      "outputs": []
    },
    {
      "cell_type": "code",
      "source": [
        "a = convertCase('abcd uu')"
      ],
      "metadata": {
        "id": "Y8L53YSTAHGb"
      },
      "execution_count": null,
      "outputs": []
    },
    {
      "cell_type": "code",
      "source": [
        "print(a)"
      ],
      "metadata": {
        "colab": {
          "base_uri": "https://localhost:8080/"
        },
        "id": "q5WP3GilAMFQ",
        "outputId": "c9621628-6044-415b-e72b-39eab269d96f"
      },
      "execution_count": null,
      "outputs": [
        {
          "output_type": "stream",
          "name": "stdout",
          "text": [
            "Abcd\n"
          ]
        }
      ]
    },
    {
      "cell_type": "code",
      "source": [
        "from pyspark.sql.functions import col,udf,StringType\n",
        "# Converting function to UDF \n",
        "convertUDF = udf(lambda z: convertCase(z),StringType())"
      ],
      "metadata": {
        "id": "-MDl94ZfANKM"
      },
      "execution_count": null,
      "outputs": []
    },
    {
      "cell_type": "code",
      "source": [
        "df.select(col(\"age\"), \\\n",
        "    convertUDF(col(\"Name\")).alias(\"Name\") ) \\\n",
        "   .show(truncate=False)"
      ],
      "metadata": {
        "colab": {
          "base_uri": "https://localhost:8080/"
        },
        "id": "HvEh-zzlCioW",
        "outputId": "d98fbcd6-1aed-4b01-ac9d-458386dd3d46"
      },
      "execution_count": null,
      "outputs": [
        {
          "output_type": "stream",
          "name": "stdout",
          "text": [
            "+---+------+\n",
            "|age|Name  |\n",
            "+---+------+\n",
            "|1  |Sunee |\n",
            "|2  |Junee |\n",
            "|3  |Sanam |\n",
            "+---+------+\n",
            "\n"
          ]
        }
      ]
    },
    {
      "cell_type": "code",
      "source": [
        "def convertCase_capitalize(str):\n",
        "    resStr=\"\"\n",
        "    arr = str.split(\" \")\n",
        "    for x in arr:\n",
        "       resStr= resStr + x.capitalize()\n",
        "       return resStr"
      ],
      "metadata": {
        "id": "qqygyoVcC8wz"
      },
      "execution_count": null,
      "outputs": []
    },
    {
      "cell_type": "code",
      "source": [
        "a = convertCase_capitalize('abcd kj')\n",
        "print(a)"
      ],
      "metadata": {
        "colab": {
          "base_uri": "https://localhost:8080/"
        },
        "id": "JfNswYq4DE5d",
        "outputId": "ff2aa807-a82e-4e89-82b5-aeb61bd10bdb"
      },
      "execution_count": null,
      "outputs": [
        {
          "output_type": "stream",
          "name": "stdout",
          "text": [
            "Abcd\n"
          ]
        }
      ]
    },
    {
      "cell_type": "code",
      "source": [
        "# Converting function to UDF \n",
        "convertUDF_capitalize = udf(lambda z: convertCase_capitalize(z),StringType())"
      ],
      "metadata": {
        "id": "kp0bme9FDH0C"
      },
      "execution_count": null,
      "outputs": []
    },
    {
      "cell_type": "code",
      "source": [
        "df.select(col(\"age\"), \\\n",
        "    convertUDF_capitalize(col(\"Name\")).alias(\"Name\") ) \\\n",
        "   .show(truncate=False)"
      ],
      "metadata": {
        "colab": {
          "base_uri": "https://localhost:8080/"
        },
        "id": "B8_zQIyzEdj7",
        "outputId": "fe86c608-243e-41aa-e28a-a5bf044800f6"
      },
      "execution_count": null,
      "outputs": [
        {
          "output_type": "stream",
          "name": "stdout",
          "text": [
            "+---+-----+\n",
            "|age|Name |\n",
            "+---+-----+\n",
            "|1  |Sunee|\n",
            "|2  |Junee|\n",
            "|3  |Sanam|\n",
            "+---+-----+\n",
            "\n"
          ]
        }
      ]
    },
    {
      "cell_type": "code",
      "source": [
        "columns = [\"Seqno\",\"Name\",\"salary\"]\n",
        "\n",
        "data = [(1, \"john jones\",200),\n",
        "    (2, \"tracey smith\",300),\n",
        "    (3, \"amy sanders\",400)]\n",
        "\n",
        "df = spark.createDataFrame(data=data,schema=columns)\n",
        "\n",
        "df.show(truncate=False)"
      ],
      "metadata": {
        "colab": {
          "base_uri": "https://localhost:8080/"
        },
        "id": "FAU-OCWPEpjt",
        "outputId": "7687da63-b30d-4bb2-d48a-bb0af4e45a39"
      },
      "execution_count": null,
      "outputs": [
        {
          "output_type": "stream",
          "name": "stdout",
          "text": [
            "+-----+------------+------+\n",
            "|Seqno|Name        |salary|\n",
            "+-----+------------+------+\n",
            "|1    |john jones  |200   |\n",
            "|2    |tracey smith|300   |\n",
            "|3    |amy sanders |400   |\n",
            "+-----+------------+------+\n",
            "\n"
          ]
        }
      ]
    },
    {
      "cell_type": "code",
      "source": [
        "def fun(one,two):\n",
        "    return one*two"
      ],
      "metadata": {
        "id": "cQ-Dmn0fF6EU"
      },
      "execution_count": null,
      "outputs": []
    },
    {
      "cell_type": "code",
      "source": [
        "from pyspark.sql.types import IntegerType\n",
        "convertUDF1 = udf(lambda z: fun(z,r),IntegerType())"
      ],
      "metadata": {
        "id": "sE3_dui_GGNc"
      },
      "execution_count": null,
      "outputs": []
    },
    {
      "cell_type": "code",
      "source": [
        "from pyspark.sql.functions import udf\n",
        "from pyspark.sql.types import StringType\n",
        "\n",
        "convertUDF1 = udf(lambda z,r: fun(z,r),IntegerType())\n",
        "df.select(convertUDF1(col(\"Seqno\"),col(\"salary\")).alias(\"data\") ) \\\n",
        "   .show(truncate=False)"
      ],
      "metadata": {
        "colab": {
          "base_uri": "https://localhost:8080/"
        },
        "id": "A3xjX0eWF-Xr",
        "outputId": "3f37dd82-682d-4a73-b389-bf4cd3b55c4b"
      },
      "execution_count": null,
      "outputs": [
        {
          "output_type": "stream",
          "name": "stdout",
          "text": [
            "+----+\n",
            "|data|\n",
            "+----+\n",
            "|200 |\n",
            "|600 |\n",
            "|1200|\n",
            "+----+\n",
            "\n"
          ]
        }
      ]
    },
    {
      "cell_type": "code",
      "source": [
        "# Import\n",
        "from pyspark.sql import SparkSession\n",
        "\n",
        "# Create SparkSession\n",
        "spark = SparkSession.builder.appName('concat.com') \\\n",
        "                    .getOrCreate()\n",
        "\n",
        "# Prepare data\n",
        "data=data = [('junee','stha','1981-04-01'),\n",
        "  ('sunee','stha','2000-05-19'),\n",
        "  ('sanam','stha','1978-09-05'),\n",
        "  ('anam','stha','1967-12-01'),\n",
        "  ('sujal','stha','1980-02-17')\n",
        "]\n",
        "\n",
        "columns=[\"firstname\",\"lastname\",\"dob\"]\n",
        "df=spark.createDataFrame(data,columns)\n",
        "df.show(truncate=False)"
      ],
      "metadata": {
        "colab": {
          "base_uri": "https://localhost:8080/"
        },
        "id": "OgRf0YdYHEa7",
        "outputId": "84eb4050-4935-431f-fa62-4551ff33982f"
      },
      "execution_count": null,
      "outputs": [
        {
          "output_type": "stream",
          "name": "stdout",
          "text": [
            "+---------+--------+----------+\n",
            "|firstname|lastname|dob       |\n",
            "+---------+--------+----------+\n",
            "|junee    |stha    |1981-04-01|\n",
            "|sunee    |stha    |2000-05-19|\n",
            "|sanam    |stha    |1978-09-05|\n",
            "|anam     |stha    |1967-12-01|\n",
            "|sujal    |stha    |1980-02-17|\n",
            "+---------+--------+----------+\n",
            "\n"
          ]
        }
      ]
    },
    {
      "cell_type": "code",
      "source": [
        "# udf function\n",
        "def merge(x, y, z):\n",
        "    return x +' '+ y + ' ' 'born in '+ z\n",
        "\n",
        "concat_cols = udf(merge, StringType())\n"
      ],
      "metadata": {
        "id": "J4M6KGAHIlkT"
      },
      "execution_count": null,
      "outputs": []
    },
    {
      "cell_type": "code",
      "source": [
        "# using udf\n",
        "df.withColumn(\"Full_Name\",concat_cols(df.firstname,df.lastname, df.dob)) \\\n",
        "  .show(truncate=False)"
      ],
      "metadata": {
        "colab": {
          "base_uri": "https://localhost:8080/"
        },
        "id": "dhXIMdb_I2j-",
        "outputId": "e67f7502-9964-4a4f-e916-c32db6b038a8"
      },
      "execution_count": null,
      "outputs": [
        {
          "output_type": "stream",
          "name": "stdout",
          "text": [
            "+---------+--------+----------+-----------------------------+\n",
            "|firstname|lastname|dob       |Full_Name                    |\n",
            "+---------+--------+----------+-----------------------------+\n",
            "|junee    |stha    |1981-04-01|junee stha born in 1981-04-01|\n",
            "|sunee    |stha    |2000-05-19|sunee stha born in 2000-05-19|\n",
            "|sanam    |stha    |1978-09-05|sanam stha born in 1978-09-05|\n",
            "|anam     |stha    |1967-12-01|anam stha born in 1967-12-01 |\n",
            "|sujal    |stha    |1980-02-17|sujal stha born in 1980-02-17|\n",
            "+---------+--------+----------+-----------------------------+\n",
            "\n"
          ]
        }
      ]
    },
    {
      "cell_type": "code",
      "source": [],
      "metadata": {
        "id": "omSLj_HoJADd"
      },
      "execution_count": null,
      "outputs": []
    }
  ]
}