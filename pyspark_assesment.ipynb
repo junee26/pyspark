{
  "nbformat": 4,
  "nbformat_minor": 0,
  "metadata": {
    "colab": {
      "provenance": []
    },
    "kernelspec": {
      "name": "python3",
      "display_name": "Python 3"
    },
    "language_info": {
      "name": "python"
    }
  },
  "cells": [
    {
      "cell_type": "code",
      "execution_count": null,
      "metadata": {
        "colab": {
          "base_uri": "https://localhost:8080/"
        },
        "id": "0aO1MxEADGEY",
        "outputId": "5bf9af87-40ca-4abd-93f0-7daa0cfba803"
      },
      "outputs": [
        {
          "output_type": "stream",
          "name": "stdout",
          "text": [
            "Looking in indexes: https://pypi.org/simple, https://us-python.pkg.dev/colab-wheels/public/simple/\n",
            "Collecting pyspark\n",
            "  Downloading pyspark-3.4.0.tar.gz (310.8 MB)\n",
            "\u001b[2K     \u001b[90m━━━━━━━━━━━━━━━━━━━━━━━━━━━━━━━━━━━━━━━\u001b[0m \u001b[32m310.8/310.8 MB\u001b[0m \u001b[31m4.2 MB/s\u001b[0m eta \u001b[36m0:00:00\u001b[0m\n",
            "\u001b[?25h  Preparing metadata (setup.py) ... \u001b[?25l\u001b[?25hdone\n",
            "Requirement already satisfied: py4j==0.10.9.7 in /usr/local/lib/python3.9/dist-packages (from pyspark) (0.10.9.7)\n",
            "Building wheels for collected packages: pyspark\n",
            "  Building wheel for pyspark (setup.py) ... \u001b[?25l\u001b[?25hdone\n",
            "  Created wheel for pyspark: filename=pyspark-3.4.0-py2.py3-none-any.whl size=311317145 sha256=2897c1d5b396774f86db2c30d8e532b332336638531bca68971c4639cc878a2c\n",
            "  Stored in directory: /root/.cache/pip/wheels/9f/34/a4/159aa12d0a510d5ff7c8f0220abbea42e5d81ecf588c4fd884\n",
            "Successfully built pyspark\n",
            "Installing collected packages: pyspark\n",
            "Successfully installed pyspark-3.4.0\n"
          ]
        }
      ],
      "source": [
        "pip install pyspark"
      ]
    },
    {
      "cell_type": "code",
      "source": [
        "from pyspark.sql import SparkSession\n",
        "spark = SparkSession.builder.appName(\"assesment.com\").getOrCreate()"
      ],
      "metadata": {
        "id": "3sLlnkEXDVc0"
      },
      "execution_count": null,
      "outputs": []
    },
    {
      "cell_type": "code",
      "source": [
        "df = spark.read.csv(\"titanic.csv\", header=True)"
      ],
      "metadata": {
        "id": "4ZXNVq6fDnAW"
      },
      "execution_count": null,
      "outputs": []
    },
    {
      "cell_type": "code",
      "source": [
        "df.show()"
      ],
      "metadata": {
        "colab": {
          "base_uri": "https://localhost:8080/"
        },
        "id": "aasBKlhFEOq4",
        "outputId": "dbbcb152-cd3f-4da3-b4ca-ca500ba38a01"
      },
      "execution_count": null,
      "outputs": [
        {
          "output_type": "stream",
          "name": "stdout",
          "text": [
            "+-----------+--------+------+--------------------+------+----+-----+-----+----------------+-------+-----+--------+\n",
            "|PassengerId|Survived|Pclass|                Name|   Sex| Age|SibSp|Parch|          Ticket|   Fare|Cabin|Embarked|\n",
            "+-----------+--------+------+--------------------+------+----+-----+-----+----------------+-------+-----+--------+\n",
            "|          1|       0|     3|Braund, Mr. Owen ...|  male|  22|    1|    0|       A/5 21171|   7.25| null|       S|\n",
            "|          2|       1|     1|Cumings, Mrs. Joh...|female|  38|    1|    0|        PC 17599|71.2833|  C85|       C|\n",
            "|          3|       1|     3|Heikkinen, Miss. ...|female|  26|    0|    0|STON/O2. 3101282|  7.925| null|       S|\n",
            "|          4|       1|     1|Futrelle, Mrs. Ja...|female|  35|    1|    0|          113803|   53.1| C123|       S|\n",
            "|          5|       0|     3|Allen, Mr. Willia...|  male|  35|    0|    0|          373450|   8.05| null|       S|\n",
            "|          6|       0|     3|    Moran, Mr. James|  male|null|    0|    0|          330877| 8.4583| null|       Q|\n",
            "|          7|       0|     1|McCarthy, Mr. Tim...|  male|  54|    0|    0|           17463|51.8625|  E46|       S|\n",
            "|          8|       0|     3|Palsson, Master. ...|  male|   2|    3|    1|          349909| 21.075| null|       S|\n",
            "|          9|       1|     3|Johnson, Mrs. Osc...|female|  27|    0|    2|          347742|11.1333| null|       S|\n",
            "|         10|       1|     2|Nasser, Mrs. Nich...|female|  14|    1|    0|          237736|30.0708| null|       C|\n",
            "|         11|       1|     3|Sandstrom, Miss. ...|female|   4|    1|    1|         PP 9549|   16.7|   G6|       S|\n",
            "|         12|       1|     1|Bonnell, Miss. El...|female|  58|    0|    0|          113783|  26.55| C103|       S|\n",
            "|         13|       0|     3|Saundercock, Mr. ...|  male|  20|    0|    0|       A/5. 2151|   8.05| null|       S|\n",
            "|         14|       0|     3|Andersson, Mr. An...|  male|  39|    1|    5|          347082| 31.275| null|       S|\n",
            "|         15|       0|     3|Vestrom, Miss. Hu...|female|  14|    0|    0|          350406| 7.8542| null|       S|\n",
            "|         16|       1|     2|Hewlett, Mrs. (Ma...|female|  55|    0|    0|          248706|     16| null|       S|\n",
            "|         17|       0|     3|Rice, Master. Eugene|  male|   2|    4|    1|          382652| 29.125| null|       Q|\n",
            "|         18|       1|     2|Williams, Mr. Cha...|  male|null|    0|    0|          244373|     13| null|       S|\n",
            "|         19|       0|     3|Vander Planke, Mr...|female|  31|    1|    0|          345763|     18| null|       S|\n",
            "|         20|       1|     3|Masselmani, Mrs. ...|female|null|    0|    0|            2649|  7.225| null|       C|\n",
            "+-----------+--------+------+--------------------+------+----+-----+-----+----------------+-------+-----+--------+\n",
            "only showing top 20 rows\n",
            "\n"
          ]
        }
      ]
    },
    {
      "cell_type": "code",
      "source": [
        "#A.How many people survive and how many people dead\n",
        "# count the number of survivors and deaths\n",
        "#A -> Spark\n",
        "survived_count = df.filter(df.Survived == 1).count()\n",
        "death_count = df.filter(df.Survived == 0).count()"
      ],
      "metadata": {
        "id": "rFLLBJ1DEiCf"
      },
      "execution_count": null,
      "outputs": []
    },
    {
      "cell_type": "code",
      "source": [
        "print(\"Survivors:\", survived_count)"
      ],
      "metadata": {
        "colab": {
          "base_uri": "https://localhost:8080/"
        },
        "id": "nBluv52EEwNP",
        "outputId": "badcde48-43e0-43ca-92f7-3b9e2a0f2283"
      },
      "execution_count": null,
      "outputs": [
        {
          "output_type": "stream",
          "name": "stdout",
          "text": [
            "Survivors: 342\n"
          ]
        }
      ]
    },
    {
      "cell_type": "code",
      "source": [
        "print(\"Deaths:\", death_count)"
      ],
      "metadata": {
        "colab": {
          "base_uri": "https://localhost:8080/"
        },
        "id": "4hP2cAbXE1Sc",
        "outputId": "c0bde5e3-2232-426b-a5b0-6032293627c7"
      },
      "execution_count": null,
      "outputs": [
        {
          "output_type": "stream",
          "name": "stdout",
          "text": [
            "Deaths: 549\n"
          ]
        }
      ]
    },
    {
      "cell_type": "code",
      "source": [
        "df.createOrReplaceTempView(\"titanic_table\")"
      ],
      "metadata": {
        "id": "lBvrFrswHutX"
      },
      "execution_count": null,
      "outputs": []
    },
    {
      "cell_type": "code",
      "source": [
        "#A -> SQL\n",
        "# count the number of survivors\n",
        "survivors = spark.sql(\"SELECT COUNT(*) FROM titanic_table WHERE Survived = 1\").collect()[0][0]\n",
        "print(f\"Number of survivors: {survivors}\")\n",
        "\n",
        "# count the number of deaths\n",
        "deaths = spark.sql(\"SELECT COUNT(*) FROM titanic_table WHERE Survived = 0\").collect()[0][0]\n",
        "print(f\"Number of deaths: {deaths}\")\n"
      ],
      "metadata": {
        "colab": {
          "base_uri": "https://localhost:8080/"
        },
        "id": "XaLwSj5eKZV0",
        "outputId": "d0f7a767-a9df-459f-a440-1d5a3be50251"
      },
      "execution_count": null,
      "outputs": [
        {
          "output_type": "stream",
          "name": "stdout",
          "text": [
            "Number of survivors: 342\n",
            "Number of deaths: 549\n"
          ]
        }
      ]
    },
    {
      "cell_type": "code",
      "source": [
        "#B.How many people survive how does not have sibling\n",
        "#B -> Spark\n",
        "from pyspark.sql.functions import col\n",
        "# count the number of survivors without siblings\n",
        "survived_without_siblings_count = df.filter((df.Survived == 1) & (col(\"SibSp\") == 0)).count()\n",
        "print(\"Survivors without siblings:\", survived_without_siblings_count)\n"
      ],
      "metadata": {
        "colab": {
          "base_uri": "https://localhost:8080/"
        },
        "id": "MNXO8ZTxE5Sd",
        "outputId": "0fa548e5-1297-4096-85c3-8c9f66a90716"
      },
      "execution_count": null,
      "outputs": [
        {
          "output_type": "stream",
          "name": "stdout",
          "text": [
            "Survivors without siblings: 210\n"
          ]
        }
      ]
    },
    {
      "cell_type": "code",
      "source": [
        "#B -> SQL\n",
        "survivors_without_siblings_count = spark.sql(\"SELECT COUNT(*) FROM titanic_table WHERE Survived = 1 AND SibSp = 0\").collect()[0][0]\n",
        "print(f\"Number of survivors without siblings: {survivors_without_siblings_count}\")"
      ],
      "metadata": {
        "colab": {
          "base_uri": "https://localhost:8080/"
        },
        "id": "3D3tLPtkLLYY",
        "outputId": "f03e6a3b-329d-459d-e384-d4709d9078cc"
      },
      "execution_count": null,
      "outputs": [
        {
          "output_type": "stream",
          "name": "stdout",
          "text": [
            "Number of survivors without siblings: 210\n"
          ]
        }
      ]
    },
    {
      "cell_type": "code",
      "source": [
        "#C.How many people died Who does not have sibling\n",
        "# count the number of death without siblings\n",
        "#C ->Spark\n",
        "death_without_siblings_count = df.filter((df.Survived == 0) & (col(\"SibSp\") == 0)).count()\n",
        "print(\"Died without siblings:\", death_without_siblings_count)"
      ],
      "metadata": {
        "colab": {
          "base_uri": "https://localhost:8080/"
        },
        "id": "LIC7sUDNFfss",
        "outputId": "b87359e6-47ec-47e4-b970-926512e7b04e"
      },
      "execution_count": null,
      "outputs": [
        {
          "output_type": "stream",
          "name": "stdout",
          "text": [
            "Died without siblings: 398\n"
          ]
        }
      ]
    },
    {
      "cell_type": "code",
      "source": [
        "#C ->SQL\n",
        "death_without_siblings = spark.sql(\"SELECT COUNT(*) FROM titanic_table WHERE Survived = 0 AND SibSp = 0\").collect()[0][0]\n",
        "print(f\"Number of survivors without siblings: {death_without_siblings}\")"
      ],
      "metadata": {
        "colab": {
          "base_uri": "https://localhost:8080/"
        },
        "id": "KLk5O6b6Lq88",
        "outputId": "1128bb95-fed8-4395-89e5-682d7c95fd02"
      },
      "execution_count": null,
      "outputs": [
        {
          "output_type": "stream",
          "name": "stdout",
          "text": [
            "Number of survivors without siblings: 398\n"
          ]
        }
      ]
    },
    {
      "cell_type": "code",
      "source": [
        "#D.Remove the NAN data from cabin and display updated list\n",
        "#D -Spark\n",
        "#Drop the row if that row contains null value in \"Cabin\" Column\n",
        "df_without_nan_cabin = df.na.drop(subset=[\"Cabin\"])\n",
        "df_without_nan_cabin.show()"
      ],
      "metadata": {
        "colab": {
          "base_uri": "https://localhost:8080/"
        },
        "id": "UcyB4QgDF93N",
        "outputId": "1aed8382-acee-4aed-c9d3-555d42fc8cbb"
      },
      "execution_count": null,
      "outputs": [
        {
          "output_type": "stream",
          "name": "stdout",
          "text": [
            "+-----------+--------+------+--------------------+------+----+-----+-----+-----------+--------+-----------+--------+\n",
            "|PassengerId|Survived|Pclass|                Name|   Sex| Age|SibSp|Parch|     Ticket|    Fare|      Cabin|Embarked|\n",
            "+-----------+--------+------+--------------------+------+----+-----+-----+-----------+--------+-----------+--------+\n",
            "|          2|       1|     1|Cumings, Mrs. Joh...|female|  38|    1|    0|   PC 17599| 71.2833|        C85|       C|\n",
            "|          4|       1|     1|Futrelle, Mrs. Ja...|female|  35|    1|    0|     113803|    53.1|       C123|       S|\n",
            "|          7|       0|     1|McCarthy, Mr. Tim...|  male|  54|    0|    0|      17463| 51.8625|        E46|       S|\n",
            "|         11|       1|     3|Sandstrom, Miss. ...|female|   4|    1|    1|    PP 9549|    16.7|         G6|       S|\n",
            "|         12|       1|     1|Bonnell, Miss. El...|female|  58|    0|    0|     113783|   26.55|       C103|       S|\n",
            "|         22|       1|     2|Beesley, Mr. Lawr...|  male|  34|    0|    0|     248698|      13|        D56|       S|\n",
            "|         24|       1|     1|Sloper, Mr. Willi...|  male|  28|    0|    0|     113788|    35.5|         A6|       S|\n",
            "|         28|       0|     1|Fortune, Mr. Char...|  male|  19|    3|    2|      19950|     263|C23 C25 C27|       S|\n",
            "|         32|       1|     1|Spencer, Mrs. Wil...|female|null|    1|    0|   PC 17569|146.5208|        B78|       C|\n",
            "|         53|       1|     1|Harper, Mrs. Henr...|female|  49|    1|    0|   PC 17572| 76.7292|        D33|       C|\n",
            "|         55|       0|     1|Ostby, Mr. Engelh...|  male|  65|    0|    1|     113509| 61.9792|        B30|       C|\n",
            "|         56|       1|     1|   Woolner, Mr. Hugh|  male|null|    0|    0|      19947|    35.5|        C52|       S|\n",
            "|         62|       1|     1| Icard, Miss. Amelie|female|  38|    0|    0|     113572|      80|        B28|    null|\n",
            "|         63|       0|     1|Harris, Mr. Henry...|  male|  45|    1|    0|      36973|  83.475|        C83|       S|\n",
            "|         67|       1|     2|Nye, Mrs. (Elizab...|female|  29|    0|    0| C.A. 29395|    10.5|        F33|       S|\n",
            "|         76|       0|     3|Moen, Mr. Sigurd ...|  male|  25|    0|    0|     348123|    7.65|      F G73|       S|\n",
            "|         89|       1|     1|Fortune, Miss. Ma...|female|  23|    3|    2|      19950|     263|C23 C25 C27|       S|\n",
            "|         93|       0|     1|Chaffee, Mr. Herb...|  male|  46|    1|    0|W.E.P. 5734|  61.175|        E31|       S|\n",
            "|         97|       0|     1|Goldschmidt, Mr. ...|  male|  71|    0|    0|   PC 17754| 34.6542|         A5|       C|\n",
            "|         98|       1|     1|Greenfield, Mr. W...|  male|  23|    0|    1|   PC 17759| 63.3583|    D10 D12|       C|\n",
            "+-----------+--------+------+--------------------+------+----+-----+-----+-----------+--------+-----------+--------+\n",
            "only showing top 20 rows\n",
            "\n"
          ]
        }
      ]
    },
    {
      "cell_type": "code",
      "source": [
        "#D -Sql\n",
        "# remove rows with null values in the 'cabin' column\n",
        "df_filtered = spark.sql(\"SELECT * FROM titanic_table WHERE cabin IS NOT NULL\")\n",
        "\n",
        "# display the updated list\n",
        "df_filtered.show()"
      ],
      "metadata": {
        "colab": {
          "base_uri": "https://localhost:8080/"
        },
        "id": "-Nm5-VNcHGEO",
        "outputId": "6de713d6-bfb2-4f06-c16f-21bd3d059a59"
      },
      "execution_count": null,
      "outputs": [
        {
          "output_type": "stream",
          "name": "stdout",
          "text": [
            "+-----------+--------+------+--------------------+------+----+-----+-----+-----------+--------+-----------+--------+\n",
            "|PassengerId|Survived|Pclass|                Name|   Sex| Age|SibSp|Parch|     Ticket|    Fare|      Cabin|Embarked|\n",
            "+-----------+--------+------+--------------------+------+----+-----+-----+-----------+--------+-----------+--------+\n",
            "|          2|       1|     1|Cumings, Mrs. Joh...|female|  38|    1|    0|   PC 17599| 71.2833|        C85|       C|\n",
            "|          4|       1|     1|Futrelle, Mrs. Ja...|female|  35|    1|    0|     113803|    53.1|       C123|       S|\n",
            "|          7|       0|     1|McCarthy, Mr. Tim...|  male|  54|    0|    0|      17463| 51.8625|        E46|       S|\n",
            "|         11|       1|     3|Sandstrom, Miss. ...|female|   4|    1|    1|    PP 9549|    16.7|         G6|       S|\n",
            "|         12|       1|     1|Bonnell, Miss. El...|female|  58|    0|    0|     113783|   26.55|       C103|       S|\n",
            "|         22|       1|     2|Beesley, Mr. Lawr...|  male|  34|    0|    0|     248698|      13|        D56|       S|\n",
            "|         24|       1|     1|Sloper, Mr. Willi...|  male|  28|    0|    0|     113788|    35.5|         A6|       S|\n",
            "|         28|       0|     1|Fortune, Mr. Char...|  male|  19|    3|    2|      19950|     263|C23 C25 C27|       S|\n",
            "|         32|       1|     1|Spencer, Mrs. Wil...|female|null|    1|    0|   PC 17569|146.5208|        B78|       C|\n",
            "|         53|       1|     1|Harper, Mrs. Henr...|female|  49|    1|    0|   PC 17572| 76.7292|        D33|       C|\n",
            "|         55|       0|     1|Ostby, Mr. Engelh...|  male|  65|    0|    1|     113509| 61.9792|        B30|       C|\n",
            "|         56|       1|     1|   Woolner, Mr. Hugh|  male|null|    0|    0|      19947|    35.5|        C52|       S|\n",
            "|         62|       1|     1| Icard, Miss. Amelie|female|  38|    0|    0|     113572|      80|        B28|    null|\n",
            "|         63|       0|     1|Harris, Mr. Henry...|  male|  45|    1|    0|      36973|  83.475|        C83|       S|\n",
            "|         67|       1|     2|Nye, Mrs. (Elizab...|female|  29|    0|    0| C.A. 29395|    10.5|        F33|       S|\n",
            "|         76|       0|     3|Moen, Mr. Sigurd ...|  male|  25|    0|    0|     348123|    7.65|      F G73|       S|\n",
            "|         89|       1|     1|Fortune, Miss. Ma...|female|  23|    3|    2|      19950|     263|C23 C25 C27|       S|\n",
            "|         93|       0|     1|Chaffee, Mr. Herb...|  male|  46|    1|    0|W.E.P. 5734|  61.175|        E31|       S|\n",
            "|         97|       0|     1|Goldschmidt, Mr. ...|  male|  71|    0|    0|   PC 17754| 34.6542|         A5|       C|\n",
            "|         98|       1|     1|Greenfield, Mr. W...|  male|  23|    0|    1|   PC 17759| 63.3583|    D10 D12|       C|\n",
            "+-----------+--------+------+--------------------+------+----+-----+-----+-----------+--------+-----------+--------+\n",
            "only showing top 20 rows\n",
            "\n"
          ]
        }
      ]
    },
    {
      "cell_type": "code",
      "source": [
        "#E.How many male who died and how many female died?\n",
        "#E -> Spark\n",
        "# Group the data by Sex and Survived columns and count the number of deaths\n",
        "from pyspark.sql.functions import count\n",
        "male_deaths = df.filter((df['Survived'] == 0) & (df['Sex'] == 'male')).agg(count('*')).collect()[0][0]\n",
        "female_deaths = df.filter((df['Survived'] == 0) & (df['Sex'] == 'female')).agg(count('*')).collect()[0][0]\n",
        "print(f\"Number of male deaths: {male_deaths}\")\n",
        "print(f\"Number of female deaths: {female_deaths}\")\n"
      ],
      "metadata": {
        "colab": {
          "base_uri": "https://localhost:8080/"
        },
        "id": "8wAuVn8FH700",
        "outputId": "6f5bf951-f7b9-4039-8d79-a5159c689b76"
      },
      "execution_count": null,
      "outputs": [
        {
          "output_type": "stream",
          "name": "stdout",
          "text": [
            "Number of male deaths: 468\n",
            "Number of female deaths: 81\n"
          ]
        }
      ]
    },
    {
      "cell_type": "code",
      "source": [
        "#E -> SQL\n",
        "# count the number of males who died\n",
        "male_deaths = spark.sql(\"SELECT COUNT(*) FROM titanic_table WHERE Survived = 0 AND Sex = 'male'\").collect()[0][0]\n",
        "print(f\"Number of male deaths: {male_deaths}\")"
      ],
      "metadata": {
        "colab": {
          "base_uri": "https://localhost:8080/"
        },
        "id": "cOJLOI0nIct3",
        "outputId": "f2bd271d-292c-4e2a-c7e5-613903074b0b"
      },
      "execution_count": null,
      "outputs": [
        {
          "output_type": "stream",
          "name": "stdout",
          "text": [
            "Number of male deaths: 468\n"
          ]
        }
      ]
    },
    {
      "cell_type": "code",
      "source": [
        "# count the number of females who died\n",
        "female_deaths = spark.sql(\"SELECT COUNT(*) FROM titanic_table WHERE Survived = 0 AND Sex = 'female'\").collect()[0][0]\n",
        "print(f\"Number of female deaths: {female_deaths}\")"
      ],
      "metadata": {
        "colab": {
          "base_uri": "https://localhost:8080/"
        },
        "id": "knHNjW4xJZqG",
        "outputId": "9e9b9ada-3a3d-4aff-c7c8-dda0303d0269"
      },
      "execution_count": null,
      "outputs": [
        {
          "output_type": "stream",
          "name": "stdout",
          "text": [
            "Number of female deaths: 81\n"
          ]
        }
      ]
    },
    {
      "cell_type": "code",
      "source": [],
      "metadata": {
        "id": "cfREFdwTKAWK"
      },
      "execution_count": null,
      "outputs": []
    }
  ]
}