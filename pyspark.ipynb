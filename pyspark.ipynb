{
  "nbformat": 4,
  "nbformat_minor": 0,
  "metadata": {
    "colab": {
      "provenance": []
    },
    "kernelspec": {
      "name": "python3",
      "display_name": "Python 3"
    },
    "language_info": {
      "name": "python"
    }
  },
  "cells": [
    {
      "cell_type": "code",
      "execution_count": null,
      "metadata": {
        "colab": {
          "base_uri": "https://localhost:8080/"
        },
        "id": "b3uulQuuuA6O",
        "outputId": "81e2f487-0ad1-4d44-fb20-268e3a02b137"
      },
      "outputs": [
        {
          "output_type": "stream",
          "name": "stdout",
          "text": [
            "Looking in indexes: https://pypi.org/simple, https://us-python.pkg.dev/colab-wheels/public/simple/\n",
            "Collecting pyspark\n",
            "  Downloading pyspark-3.4.0.tar.gz (310.8 MB)\n",
            "\u001b[2K     \u001b[90m━━━━━━━━━━━━━━━━━━━━━━━━━━━━━━━━━━━━━━━\u001b[0m \u001b[32m310.8/310.8 MB\u001b[0m \u001b[31m3.7 MB/s\u001b[0m eta \u001b[36m0:00:00\u001b[0m\n",
            "\u001b[?25h  Preparing metadata (setup.py) ... \u001b[?25l\u001b[?25hdone\n",
            "Requirement already satisfied: py4j==0.10.9.7 in /usr/local/lib/python3.9/dist-packages (from pyspark) (0.10.9.7)\n",
            "Building wheels for collected packages: pyspark\n",
            "  Building wheel for pyspark (setup.py) ... \u001b[?25l\u001b[?25hdone\n",
            "  Created wheel for pyspark: filename=pyspark-3.4.0-py2.py3-none-any.whl size=311317145 sha256=0b232672cd2187fea44353e917f421bc6a0865e0a2f3aa4b02538a2d2599c91b\n",
            "  Stored in directory: /root/.cache/pip/wheels/9f/34/a4/159aa12d0a510d5ff7c8f0220abbea42e5d81ecf588c4fd884\n",
            "Successfully built pyspark\n",
            "Installing collected packages: pyspark\n",
            "Successfully installed pyspark-3.4.0\n"
          ]
        }
      ],
      "source": [
        "pip install pyspark\n"
      ]
    },
    {
      "cell_type": "code",
      "source": [
        "from pyspark.sql import SparkSession\n",
        "spark = SparkSession.builder.appName(\"create_df_with_orc\").getOrCreate()"
      ],
      "metadata": {
        "id": "HxxHD5f3uUb7"
      },
      "execution_count": null,
      "outputs": []
    },
    {
      "cell_type": "code",
      "source": [
        "simpleData = [(\"James\",\"Sales\",\"NY\",90000,34,10000),\n",
        "    (\"Michael\",\"Sales\",\"NY\",86000,56,20000),\n",
        "    (\"Robert\",\"Sales\",\"CA\",81000,30,23000),\n",
        "    (\"Maria\",\"Finance\",\"CA\",90000,24,23000),\n",
        "    (\"Raman\",\"Finance\",\"CA\",99000,40,24000),\n",
        "    (\"Scott\",\"Finance\",\"NY\",83000,36,19000),\n",
        "    (\"Jen\",\"Finance\",\"NY\",79000,53,15000),\n",
        "    (\"Jeff\",\"Marketing\",\"CA\",80000,25,18000),\n",
        "    (\"Kumar\",\"Marketing\",\"NY\",91000,50,21000)\n",
        "  ]\n",
        "schema = [\"employee_name\",\"department\",\"state\",\"salary\",\"age\",\"bonus\"]\n",
        "simple_df = spark.createDataFrame(simpleData,  schema)\n",
        "simple_df.show()"
      ],
      "metadata": {
        "colab": {
          "base_uri": "https://localhost:8080/"
        },
        "id": "eso84ETFvSer",
        "outputId": "8a799492-8836-4e8c-e391-5cb80a7c3761"
      },
      "execution_count": null,
      "outputs": [
        {
          "output_type": "stream",
          "name": "stdout",
          "text": [
            "+-------------+----------+-----+------+---+-----+\n",
            "|employee_name|department|state|salary|age|bonus|\n",
            "+-------------+----------+-----+------+---+-----+\n",
            "|        James|     Sales|   NY| 90000| 34|10000|\n",
            "|      Michael|     Sales|   NY| 86000| 56|20000|\n",
            "|       Robert|     Sales|   CA| 81000| 30|23000|\n",
            "|        Maria|   Finance|   CA| 90000| 24|23000|\n",
            "|        Raman|   Finance|   CA| 99000| 40|24000|\n",
            "|        Scott|   Finance|   NY| 83000| 36|19000|\n",
            "|          Jen|   Finance|   NY| 79000| 53|15000|\n",
            "|         Jeff| Marketing|   CA| 80000| 25|18000|\n",
            "|        Kumar| Marketing|   NY| 91000| 50|21000|\n",
            "+-------------+----------+-----+------+---+-----+\n",
            "\n"
          ]
        }
      ]
    },
    {
      "cell_type": "code",
      "source": [
        "from pyspark.sql.functions import sum\n",
        "from pyspark.sql.functions import col\n",
        "from pyspark.sql import Window  #Importing the windowfunction\n",
        "windowSpec  = Window.partitionBy(\"Department\") #Partitioning by the department column\n",
        "simple_df.withColumn(\"Salary Sum\",sum(col(\"Salary\")).over(windowSpec)).show() #Creating new column salary sum with sum function using over to calculate the sum on the dataframe with the partitioned rows"
      ],
      "metadata": {
        "colab": {
          "base_uri": "https://localhost:8080/"
        },
        "id": "OaqmzZLGvruW",
        "outputId": "f04f3776-6ff7-440e-9a14-6e9c3eedb120"
      },
      "execution_count": null,
      "outputs": [
        {
          "output_type": "stream",
          "name": "stdout",
          "text": [
            "+-------------+----------+-----+------+---+-----+----------+\n",
            "|employee_name|department|state|salary|age|bonus|Salary Sum|\n",
            "+-------------+----------+-----+------+---+-----+----------+\n",
            "|        Maria|   Finance|   CA| 90000| 24|23000|    351000|\n",
            "|        Raman|   Finance|   CA| 99000| 40|24000|    351000|\n",
            "|        Scott|   Finance|   NY| 83000| 36|19000|    351000|\n",
            "|          Jen|   Finance|   NY| 79000| 53|15000|    351000|\n",
            "|         Jeff| Marketing|   CA| 80000| 25|18000|    171000|\n",
            "|        Kumar| Marketing|   NY| 91000| 50|21000|    171000|\n",
            "|        James|     Sales|   NY| 90000| 34|10000|    257000|\n",
            "|      Michael|     Sales|   NY| 86000| 56|20000|    257000|\n",
            "|       Robert|     Sales|   CA| 81000| 30|23000|    257000|\n",
            "+-------------+----------+-----+------+---+-----+----------+\n",
            "\n"
          ]
        }
      ]
    },
    {
      "cell_type": "code",
      "source": [
        "empSalary = simple_df.groupBy('department','state').agg({'salary':'sum','bonus':'sum'})\n",
        "empSalary.withColumn('Total Sum',col('sum(bonus)')+col('sum(salary)')).show()"
      ],
      "metadata": {
        "colab": {
          "base_uri": "https://localhost:8080/"
        },
        "id": "8tq-6DAHw3UG",
        "outputId": "a7adf18c-e279-4573-c0b2-d1926913b617"
      },
      "execution_count": null,
      "outputs": [
        {
          "output_type": "stream",
          "name": "stdout",
          "text": [
            "+----------+-----+----------+-----------+---------+\n",
            "|department|state|sum(bonus)|sum(salary)|Total Sum|\n",
            "+----------+-----+----------+-----------+---------+\n",
            "|     Sales|   CA|     23000|      81000|   104000|\n",
            "|   Finance|   CA|     47000|     189000|   236000|\n",
            "|     Sales|   NY|     30000|     176000|   206000|\n",
            "|   Finance|   NY|     34000|     162000|   196000|\n",
            "| Marketing|   NY|     21000|      91000|   112000|\n",
            "| Marketing|   CA|     18000|      80000|    98000|\n",
            "+----------+-----+----------+-----------+---------+\n",
            "\n"
          ]
        }
      ]
    },
    {
      "cell_type": "code",
      "source": [
        "from pyspark.sql.functions import sum, avg, min, max\n",
        "\n",
        "final_df = simple_df.groupby(\"Department\").agg(sum(\"Salary\").alias(\"TotalSalary\"), avg(\"Salary\").alias(\"AverageSalary\"), min(\"Salary\").alias(\"MinimumSalary\"), max(\"Salary\").alias(\"MaximumSalary\"))"
      ],
      "metadata": {
        "id": "st2UCDvYx216"
      },
      "execution_count": null,
      "outputs": []
    },
    {
      "cell_type": "code",
      "source": [
        "final_df.show()"
      ],
      "metadata": {
        "colab": {
          "base_uri": "https://localhost:8080/"
        },
        "id": "fUvBj-_2yQDW",
        "outputId": "4fc15a25-5d29-439f-c666-b8b7882a7549"
      },
      "execution_count": null,
      "outputs": [
        {
          "output_type": "stream",
          "name": "stdout",
          "text": [
            "+----------+-----------+-----------------+-------------+-------------+\n",
            "|Department|TotalSalary|    AverageSalary|MinimumSalary|MaximumSalary|\n",
            "+----------+-----------+-----------------+-------------+-------------+\n",
            "|     Sales|     257000|85666.66666666667|        81000|        90000|\n",
            "|   Finance|     351000|          87750.0|        79000|        99000|\n",
            "| Marketing|     171000|          85500.0|        80000|        91000|\n",
            "+----------+-----------+-----------------+-------------+-------------+\n",
            "\n"
          ]
        }
      ]
    },
    {
      "cell_type": "code",
      "source": [
        "#get data from the link and add url\n",
        "url = \"https://archive.ics.uci.edu/ml/machine-learning-databases/iris/iris.data\"\n",
        "from pyspark import SparkFiles\n",
        "spark.sparkContext.addFile(url)\n",
        "#read file and show it schema\n",
        "onlinedata_df = spark.read.csv(\"file://\"+SparkFiles.get(\"iris.data\"), header=True, inferSchema= True)\n",
        "onlinedata_df.printSchema()\n",
        "onlinedata_df.show()"
      ],
      "metadata": {
        "colab": {
          "base_uri": "https://localhost:8080/"
        },
        "id": "Dn-_tOr3yUTw",
        "outputId": "9f9255a4-94e1-44be-cc0d-8586d105d31a"
      },
      "execution_count": null,
      "outputs": [
        {
          "output_type": "stream",
          "name": "stdout",
          "text": [
            "root\n",
            " |-- 5.1: double (nullable = true)\n",
            " |-- 3.5: double (nullable = true)\n",
            " |-- 1.4: double (nullable = true)\n",
            " |-- 0.2: double (nullable = true)\n",
            " |-- Iris-setosa: string (nullable = true)\n",
            "\n",
            "+---+---+---+---+-----------+\n",
            "|5.1|3.5|1.4|0.2|Iris-setosa|\n",
            "+---+---+---+---+-----------+\n",
            "|4.9|3.0|1.4|0.2|Iris-setosa|\n",
            "|4.7|3.2|1.3|0.2|Iris-setosa|\n",
            "|4.6|3.1|1.5|0.2|Iris-setosa|\n",
            "|5.0|3.6|1.4|0.2|Iris-setosa|\n",
            "|5.4|3.9|1.7|0.4|Iris-setosa|\n",
            "|4.6|3.4|1.4|0.3|Iris-setosa|\n",
            "|5.0|3.4|1.5|0.2|Iris-setosa|\n",
            "|4.4|2.9|1.4|0.2|Iris-setosa|\n",
            "|4.9|3.1|1.5|0.1|Iris-setosa|\n",
            "|5.4|3.7|1.5|0.2|Iris-setosa|\n",
            "|4.8|3.4|1.6|0.2|Iris-setosa|\n",
            "|4.8|3.0|1.4|0.1|Iris-setosa|\n",
            "|4.3|3.0|1.1|0.1|Iris-setosa|\n",
            "|5.8|4.0|1.2|0.2|Iris-setosa|\n",
            "|5.7|4.4|1.5|0.4|Iris-setosa|\n",
            "|5.4|3.9|1.3|0.4|Iris-setosa|\n",
            "|5.1|3.5|1.4|0.3|Iris-setosa|\n",
            "|5.7|3.8|1.7|0.3|Iris-setosa|\n",
            "|5.1|3.8|1.5|0.3|Iris-setosa|\n",
            "|5.4|3.4|1.7|0.2|Iris-setosa|\n",
            "+---+---+---+---+-----------+\n",
            "only showing top 20 rows\n",
            "\n"
          ]
        }
      ]
    },
    {
      "cell_type": "code",
      "source": [
        "#Renamed Column Name using withColumnRenamed function\n",
        "new_onlinedata_df = onlinedata_df.withColumnRenamed('5.1', 'sepal_length') \\\n",
        "                    .withColumnRenamed('3.5', 'sepal_width') \\\n",
        "                    .withColumnRenamed('1.4', 'petal_length') \\\n",
        "                    .withColumnRenamed('0.2', 'petal_width') \\\n",
        "                    .withColumnRenamed('Iris-setosa', 'species')\n",
        "new_onlinedata_df.show()              "
      ],
      "metadata": {
        "colab": {
          "base_uri": "https://localhost:8080/"
        },
        "id": "QGdR_vMd0wMN",
        "outputId": "5b69d369-4f86-4be2-8ada-3bc9cf3b39f7"
      },
      "execution_count": null,
      "outputs": [
        {
          "output_type": "stream",
          "name": "stdout",
          "text": [
            "+------------+-----------+------------+-----------+-----------+\n",
            "|sepal_length|sepal_width|petal_length|petal_width|    species|\n",
            "+------------+-----------+------------+-----------+-----------+\n",
            "|         4.9|        3.0|         1.4|        0.2|Iris-setosa|\n",
            "|         4.7|        3.2|         1.3|        0.2|Iris-setosa|\n",
            "|         4.6|        3.1|         1.5|        0.2|Iris-setosa|\n",
            "|         5.0|        3.6|         1.4|        0.2|Iris-setosa|\n",
            "|         5.4|        3.9|         1.7|        0.4|Iris-setosa|\n",
            "|         4.6|        3.4|         1.4|        0.3|Iris-setosa|\n",
            "|         5.0|        3.4|         1.5|        0.2|Iris-setosa|\n",
            "|         4.4|        2.9|         1.4|        0.2|Iris-setosa|\n",
            "|         4.9|        3.1|         1.5|        0.1|Iris-setosa|\n",
            "|         5.4|        3.7|         1.5|        0.2|Iris-setosa|\n",
            "|         4.8|        3.4|         1.6|        0.2|Iris-setosa|\n",
            "|         4.8|        3.0|         1.4|        0.1|Iris-setosa|\n",
            "|         4.3|        3.0|         1.1|        0.1|Iris-setosa|\n",
            "|         5.8|        4.0|         1.2|        0.2|Iris-setosa|\n",
            "|         5.7|        4.4|         1.5|        0.4|Iris-setosa|\n",
            "|         5.4|        3.9|         1.3|        0.4|Iris-setosa|\n",
            "|         5.1|        3.5|         1.4|        0.3|Iris-setosa|\n",
            "|         5.7|        3.8|         1.7|        0.3|Iris-setosa|\n",
            "|         5.1|        3.8|         1.5|        0.3|Iris-setosa|\n",
            "|         5.4|        3.4|         1.7|        0.2|Iris-setosa|\n",
            "+------------+-----------+------------+-----------+-----------+\n",
            "only showing top 20 rows\n",
            "\n"
          ]
        }
      ]
    },
    {
      "cell_type": "code",
      "source": [
        "from pyspark.sql.functions import greatest\n",
        "df = new_onlinedata_df.withColumn(\"MaxValue\", greatest(col(\"sepal_length\"), col(\"petal_length\")))\n",
        "df.show()"
      ],
      "metadata": {
        "colab": {
          "base_uri": "https://localhost:8080/"
        },
        "id": "HhDV_hTl1mAj",
        "outputId": "f6325140-71e8-4bee-f6de-35ed41500770"
      },
      "execution_count": null,
      "outputs": [
        {
          "output_type": "stream",
          "name": "stdout",
          "text": [
            "+------------+-----------+------------+-----------+-----------+--------+\n",
            "|sepal_length|sepal_width|petal_length|petal_width|    species|MaxValue|\n",
            "+------------+-----------+------------+-----------+-----------+--------+\n",
            "|         4.9|        3.0|         1.4|        0.2|Iris-setosa|     4.9|\n",
            "|         4.7|        3.2|         1.3|        0.2|Iris-setosa|     4.7|\n",
            "|         4.6|        3.1|         1.5|        0.2|Iris-setosa|     4.6|\n",
            "|         5.0|        3.6|         1.4|        0.2|Iris-setosa|     5.0|\n",
            "|         5.4|        3.9|         1.7|        0.4|Iris-setosa|     5.4|\n",
            "|         4.6|        3.4|         1.4|        0.3|Iris-setosa|     4.6|\n",
            "|         5.0|        3.4|         1.5|        0.2|Iris-setosa|     5.0|\n",
            "|         4.4|        2.9|         1.4|        0.2|Iris-setosa|     4.4|\n",
            "|         4.9|        3.1|         1.5|        0.1|Iris-setosa|     4.9|\n",
            "|         5.4|        3.7|         1.5|        0.2|Iris-setosa|     5.4|\n",
            "|         4.8|        3.4|         1.6|        0.2|Iris-setosa|     4.8|\n",
            "|         4.8|        3.0|         1.4|        0.1|Iris-setosa|     4.8|\n",
            "|         4.3|        3.0|         1.1|        0.1|Iris-setosa|     4.3|\n",
            "|         5.8|        4.0|         1.2|        0.2|Iris-setosa|     5.8|\n",
            "|         5.7|        4.4|         1.5|        0.4|Iris-setosa|     5.7|\n",
            "|         5.4|        3.9|         1.3|        0.4|Iris-setosa|     5.4|\n",
            "|         5.1|        3.5|         1.4|        0.3|Iris-setosa|     5.1|\n",
            "|         5.7|        3.8|         1.7|        0.3|Iris-setosa|     5.7|\n",
            "|         5.1|        3.8|         1.5|        0.3|Iris-setosa|     5.1|\n",
            "|         5.4|        3.4|         1.7|        0.2|Iris-setosa|     5.4|\n",
            "+------------+-----------+------------+-----------+-----------+--------+\n",
            "only showing top 20 rows\n",
            "\n"
          ]
        }
      ]
    },
    {
      "cell_type": "code",
      "source": [
        "from pyspark.sql.functions import greatest, col, array_max,array,lit\n",
        "max_sepal_length = new_onlinedata_df.agg(max(\"sepal_length\")).collect()[0][0]\n",
        "max_sepal_width = new_onlinedata_df.agg(max(\"sepal_width\")).collect()[0][0]\n",
        "max_petal_length = new_onlinedata_df.agg(max(\"petal_length\")).collect()[0][0]\n",
        "max_petal_width = new_onlinedata_df.agg(max(\"petal_width\")).collect()[0][0]\n",
        "max_sepal_width"
      ],
      "metadata": {
        "colab": {
          "base_uri": "https://localhost:8080/"
        },
        "id": "ORgqJ1GK2S5U",
        "outputId": "c9a18b4d-4b06-4784-eb3a-3272867f20cd"
      },
      "execution_count": null,
      "outputs": [
        {
          "output_type": "execute_result",
          "data": {
            "text/plain": [
              "4.4"
            ]
          },
          "metadata": {},
          "execution_count": 81
        }
      ]
    },
    {
      "cell_type": "code",
      "source": [
        "if max_sepal_length > max_petal_length:\n",
        "  print(f\"Sepal length has highest length with {max_sepal_length}\")\n",
        "else:\n",
        "  print(f\"petal length has highest length with {max_petal_length}\")"
      ],
      "metadata": {
        "colab": {
          "base_uri": "https://localhost:8080/"
        },
        "id": "7gHSfP695nPx",
        "outputId": "408da35f-62e8-46cc-ad04-fb5a8f8a185e"
      },
      "execution_count": null,
      "outputs": [
        {
          "output_type": "stream",
          "name": "stdout",
          "text": [
            "Sepal length has highest length with 7.9\n"
          ]
        }
      ]
    },
    {
      "cell_type": "code",
      "source": [
        "if max_sepal_width > max_petal_width:\n",
        "  print(f\"Sepal width has highest length with {max_sepal_width}\")\n",
        "else:\n",
        "  print(f\"petal width has highest length with {max_petal_width}\")"
      ],
      "metadata": {
        "colab": {
          "base_uri": "https://localhost:8080/"
        },
        "id": "noNgLvKh6BpD",
        "outputId": "2de5b876-35a8-4972-a14a-78c92bb471cd"
      },
      "execution_count": null,
      "outputs": [
        {
          "output_type": "stream",
          "name": "stdout",
          "text": [
            "Sepal width has highest length with 4.4\n"
          ]
        }
      ]
    },
    {
      "cell_type": "code",
      "source": [
        "data = [('James','','Smith','1991-04-01','M',3000),\n",
        "  ('Michael','Rose','','2000-05-19','M',4000),\n",
        "  ('Robert','','Williams','1978-09-05','M',4000),\n",
        "  ('Maria','Anne','Jones','1967-12-01','F',4000),\n",
        "  ('Jen','Mary','Brown','1980-02-17','F',-1)\n",
        "]\n",
        "Columns = ['F_name', 'M_name','L_name', \"DOB\",\"Gender\", \"salary\"]\n",
        "#Create Dataframe from given data and column\n",
        "employee_df = spark.createDataFrame(data, Columns)\n",
        "employee_df.show()"
      ],
      "metadata": {
        "colab": {
          "base_uri": "https://localhost:8080/"
        },
        "id": "ye-hcm_H8sjY",
        "outputId": "dfd481a5-47bd-4424-f589-6f8ded76f836"
      },
      "execution_count": null,
      "outputs": [
        {
          "output_type": "stream",
          "name": "stdout",
          "text": [
            "+-------+------+--------+----------+------+------+\n",
            "| F_name|M_name|  L_name|       DOB|Gender|salary|\n",
            "+-------+------+--------+----------+------+------+\n",
            "|  James|      |   Smith|1991-04-01|     M|  3000|\n",
            "|Michael|  Rose|        |2000-05-19|     M|  4000|\n",
            "| Robert|      |Williams|1978-09-05|     M|  4000|\n",
            "|  Maria|  Anne|   Jones|1967-12-01|     F|  4000|\n",
            "|    Jen|  Mary|   Brown|1980-02-17|     F|    -1|\n",
            "+-------+------+--------+----------+------+------+\n",
            "\n"
          ]
        }
      ]
    },
    {
      "cell_type": "code",
      "source": [
        "#Datatype of each column\n",
        "employee_df.printSchema()"
      ],
      "metadata": {
        "id": "5-HLTls99LNI",
        "colab": {
          "base_uri": "https://localhost:8080/"
        },
        "outputId": "d953b26b-0a40-41d8-f58e-6b476c0285e3"
      },
      "execution_count": null,
      "outputs": [
        {
          "output_type": "stream",
          "name": "stdout",
          "text": [
            "root\n",
            " |-- F_name: string (nullable = true)\n",
            " |-- M_name: string (nullable = true)\n",
            " |-- L_name: string (nullable = true)\n",
            " |-- DOB: string (nullable = true)\n",
            " |-- Gender: string (nullable = true)\n",
            " |-- salary: long (nullable = true)\n",
            "\n"
          ]
        }
      ]
    },
    {
      "cell_type": "code",
      "source": [
        "#Convert datatype of salary using integer\n",
        "df = employee_df.withColumn(\"salary\", col(\"salary\").cast(\"integer\"))\n",
        "df.printSchema()"
      ],
      "metadata": {
        "colab": {
          "base_uri": "https://localhost:8080/"
        },
        "id": "v5fbYzoKFUe5",
        "outputId": "4eb049bf-e965-4926-e0e4-ae914cfa80a4"
      },
      "execution_count": null,
      "outputs": [
        {
          "output_type": "stream",
          "name": "stdout",
          "text": [
            "root\n",
            " |-- F_name: string (nullable = true)\n",
            " |-- M_name: string (nullable = true)\n",
            " |-- L_name: string (nullable = true)\n",
            " |-- DOB: string (nullable = true)\n",
            " |-- Gender: string (nullable = true)\n",
            " |-- salary: integer (nullable = true)\n",
            "\n"
          ]
        }
      ]
    },
    {
      "cell_type": "code",
      "source": [
        "employee_df_salary5 = employee_df.withColumn(\"Salary5\", col(\"salary\") * 5)\n",
        "employee_df_salary5.show()"
      ],
      "metadata": {
        "colab": {
          "base_uri": "https://localhost:8080/"
        },
        "id": "l3sQtlxmFcpA",
        "outputId": "1f8c6144-9c37-47e0-fae5-441d3a9184d3"
      },
      "execution_count": null,
      "outputs": [
        {
          "output_type": "stream",
          "name": "stdout",
          "text": [
            "+-------+------+--------+----------+------+------+-------+\n",
            "| F_name|M_name|  L_name|       DOB|Gender|salary|Salary5|\n",
            "+-------+------+--------+----------+------+------+-------+\n",
            "|  James|      |   Smith|1991-04-01|     M|  3000|  15000|\n",
            "|Michael|  Rose|        |2000-05-19|     M|  4000|  20000|\n",
            "| Robert|      |Williams|1978-09-05|     M|  4000|  20000|\n",
            "|  Maria|  Anne|   Jones|1967-12-01|     F|  4000|  20000|\n",
            "|    Jen|  Mary|   Brown|1980-02-17|     F|    -1|     -5|\n",
            "+-------+------+--------+----------+------+------+-------+\n",
            "\n"
          ]
        }
      ]
    },
    {
      "cell_type": "code",
      "source": [],
      "metadata": {
        "id": "zFCQYTeAi2wk"
      },
      "execution_count": null,
      "outputs": []
    }
  ]
}