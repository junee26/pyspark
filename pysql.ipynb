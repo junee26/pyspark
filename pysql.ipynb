{
  "nbformat": 4,
  "nbformat_minor": 0,
  "metadata": {
    "colab": {
      "provenance": []
    },
    "kernelspec": {
      "name": "python3",
      "display_name": "Python 3"
    },
    "language_info": {
      "name": "python"
    }
  },
  "cells": [
    {
      "cell_type": "code",
      "execution_count": null,
      "metadata": {
        "colab": {
          "base_uri": "https://localhost:8080/"
        },
        "id": "QLQZOrjXdm4W",
        "outputId": "9d0b92f4-194c-49eb-9b73-1a16618a9770"
      },
      "outputs": [
        {
          "output_type": "stream",
          "name": "stdout",
          "text": [
            "Looking in indexes: https://pypi.org/simple, https://us-python.pkg.dev/colab-wheels/public/simple/\n",
            "Collecting pyspark\n",
            "  Downloading pyspark-3.4.0.tar.gz (310.8 MB)\n",
            "\u001b[2K     \u001b[90m━━━━━━━━━━━━━━━━━━━━━━━━━━━━━━━━━━━━━━━\u001b[0m \u001b[32m310.8/310.8 MB\u001b[0m \u001b[31m4.0 MB/s\u001b[0m eta \u001b[36m0:00:00\u001b[0m\n",
            "\u001b[?25h  Preparing metadata (setup.py) ... \u001b[?25l\u001b[?25hdone\n",
            "Requirement already satisfied: py4j==0.10.9.7 in /usr/local/lib/python3.9/dist-packages (from pyspark) (0.10.9.7)\n",
            "Building wheels for collected packages: pyspark\n",
            "  Building wheel for pyspark (setup.py) ... \u001b[?25l\u001b[?25hdone\n",
            "  Created wheel for pyspark: filename=pyspark-3.4.0-py2.py3-none-any.whl size=311317145 sha256=c6906041fd4775343b530315155150c7ad7358198088b18ab074adbb04c415b1\n",
            "  Stored in directory: /root/.cache/pip/wheels/9f/34/a4/159aa12d0a510d5ff7c8f0220abbea42e5d81ecf588c4fd884\n",
            "Successfully built pyspark\n",
            "Installing collected packages: pyspark\n",
            "Successfully installed pyspark-3.4.0\n"
          ]
        }
      ],
      "source": [
        "pip install pyspark"
      ]
    },
    {
      "cell_type": "code",
      "source": [
        "#Read CSV file\n",
        "from pyspark.sql import SparkSession\n",
        "spark = SparkSession.builder.appName(\"Read Top 5 Rows from CSV\").getOrCreate()\n",
        "df = spark.read.csv(\"housing.csv\")\n",
        "df.show()"
      ],
      "metadata": {
        "colab": {
          "base_uri": "https://localhost:8080/"
        },
        "id": "cLD0d4XidryS",
        "outputId": "96f15c58-8f02-4254-9206-8725244eaa92"
      },
      "execution_count": null,
      "outputs": [
        {
          "output_type": "stream",
          "name": "stdout",
          "text": [
            "+---------+--------+------------------+-----------+--------------+----------+----------+-------------+------------------+---------------+\n",
            "|      _c0|     _c1|               _c2|        _c3|           _c4|       _c5|       _c6|          _c7|               _c8|            _c9|\n",
            "+---------+--------+------------------+-----------+--------------+----------+----------+-------------+------------------+---------------+\n",
            "|longitude|latitude|housing_median_age|total_rooms|total_bedrooms|population|households|median_income|median_house_value|ocean_proximity|\n",
            "|  -122.23|   37.88|              41.0|      880.0|         129.0|     322.0|     126.0|       8.3252|          452600.0|       NEAR BAY|\n",
            "|  -122.22|   37.86|              21.0|     7099.0|        1106.0|    2401.0|    1138.0|       8.3014|          358500.0|       NEAR BAY|\n",
            "|  -122.24|   37.85|              52.0|     1467.0|         190.0|     496.0|     177.0|       7.2574|          352100.0|       NEAR BAY|\n",
            "|  -122.25|   37.85|              52.0|     1274.0|         235.0|     558.0|     219.0|       5.6431|          341300.0|       NEAR BAY|\n",
            "|  -122.25|   37.85|              52.0|     1627.0|         280.0|     565.0|     259.0|       3.8462|          342200.0|       NEAR BAY|\n",
            "|  -122.25|   37.85|              52.0|      919.0|         213.0|     413.0|     193.0|       4.0368|          269700.0|       NEAR BAY|\n",
            "|  -122.25|   37.84|              52.0|     2535.0|         489.0|    1094.0|     514.0|       3.6591|          299200.0|       NEAR BAY|\n",
            "|  -122.25|   37.84|              52.0|     3104.0|         687.0|    1157.0|     647.0|         3.12|          241400.0|       NEAR BAY|\n",
            "|  -122.26|   37.84|              42.0|     2555.0|         665.0|    1206.0|     595.0|       2.0804|          226700.0|       NEAR BAY|\n",
            "|  -122.25|   37.84|              52.0|     3549.0|         707.0|    1551.0|     714.0|       3.6912|          261100.0|       NEAR BAY|\n",
            "|  -122.26|   37.85|              52.0|     2202.0|         434.0|     910.0|     402.0|       3.2031|          281500.0|       NEAR BAY|\n",
            "|  -122.26|   37.85|              52.0|     3503.0|         752.0|    1504.0|     734.0|       3.2705|          241800.0|       NEAR BAY|\n",
            "|  -122.26|   37.85|              52.0|     2491.0|         474.0|    1098.0|     468.0|        3.075|          213500.0|       NEAR BAY|\n",
            "|  -122.26|   37.84|              52.0|      696.0|         191.0|     345.0|     174.0|       2.6736|          191300.0|       NEAR BAY|\n",
            "|  -122.26|   37.85|              52.0|     2643.0|         626.0|    1212.0|     620.0|       1.9167|          159200.0|       NEAR BAY|\n",
            "|  -122.26|   37.85|              50.0|     1120.0|         283.0|     697.0|     264.0|        2.125|          140000.0|       NEAR BAY|\n",
            "|  -122.27|   37.85|              52.0|     1966.0|         347.0|     793.0|     331.0|        2.775|          152500.0|       NEAR BAY|\n",
            "|  -122.27|   37.85|              52.0|     1228.0|         293.0|     648.0|     303.0|       2.1202|          155500.0|       NEAR BAY|\n",
            "|  -122.26|   37.84|              50.0|     2239.0|         455.0|     990.0|     419.0|       1.9911|          158700.0|       NEAR BAY|\n",
            "+---------+--------+------------------+-----------+--------------+----------+----------+-------------+------------------+---------------+\n",
            "only showing top 20 rows\n",
            "\n"
          ]
        }
      ]
    },
    {
      "cell_type": "code",
      "source": [
        "#create or replace a temporary view of a DataFrame using createOrReplaceTempView()\n",
        "df.createOrReplaceTempView(\"myTable\")\n",
        "#Once a temporary view is created using createOrReplaceTempView, you can execute SQL queries on it using Spark SQL\n",
        "top5Rows = spark.sql(\"SELECT * FROM myTable LIMIT 5\")\n",
        "top5Rows.show()"
      ],
      "metadata": {
        "colab": {
          "base_uri": "https://localhost:8080/"
        },
        "id": "ZCnLGKa1fnAu",
        "outputId": "cb751320-c677-46e1-9a0f-1ee1a7378bd7"
      },
      "execution_count": null,
      "outputs": [
        {
          "output_type": "stream",
          "name": "stdout",
          "text": [
            "+---------+--------+------------------+-----------+--------------+----------+----------+-------------+------------------+---------------+\n",
            "|      _c0|     _c1|               _c2|        _c3|           _c4|       _c5|       _c6|          _c7|               _c8|            _c9|\n",
            "+---------+--------+------------------+-----------+--------------+----------+----------+-------------+------------------+---------------+\n",
            "|longitude|latitude|housing_median_age|total_rooms|total_bedrooms|population|households|median_income|median_house_value|ocean_proximity|\n",
            "|  -122.23|   37.88|              41.0|      880.0|         129.0|     322.0|     126.0|       8.3252|          452600.0|       NEAR BAY|\n",
            "|  -122.22|   37.86|              21.0|     7099.0|        1106.0|    2401.0|    1138.0|       8.3014|          358500.0|       NEAR BAY|\n",
            "|  -122.24|   37.85|              52.0|     1467.0|         190.0|     496.0|     177.0|       7.2574|          352100.0|       NEAR BAY|\n",
            "|  -122.25|   37.85|              52.0|     1274.0|         235.0|     558.0|     219.0|       5.6431|          341300.0|       NEAR BAY|\n",
            "+---------+--------+------------------+-----------+--------------+----------+----------+-------------+------------------+---------------+\n",
            "\n"
          ]
        }
      ]
    },
    {
      "cell_type": "code",
      "source": [
        "#Create dataframe from given data\n",
        "data = [('James','','Smith','1991-04-01','M',3000),\n",
        "  ('Michael','Rose','','2000-05-19','M',4000),\n",
        "  ('Robert','','Williams','1978-09-05','M',4000),\n",
        "  ('Maria','Anne','Jones','1967-12-01','F',4000),\n",
        "  ('Jen','Mary','Brown','1980-02-17','F',-1)\n",
        "]\n",
        "columns = [\"firstname\",\"middlename\",\"lastname\",\"dob\",\"gender\",\"salary\"]\n",
        "sample_df = spark.createDataFrame(data,  columns)\n",
        "sample_df.show()"
      ],
      "metadata": {
        "colab": {
          "base_uri": "https://localhost:8080/"
        },
        "id": "o6GQ7X0UgAPS",
        "outputId": "563f6b87-3854-4df6-9fa4-f79719f81f86"
      },
      "execution_count": null,
      "outputs": [
        {
          "output_type": "stream",
          "name": "stdout",
          "text": [
            "+---------+----------+--------+----------+------+------+\n",
            "|firstname|middlename|lastname|       dob|gender|salary|\n",
            "+---------+----------+--------+----------+------+------+\n",
            "|    James|          |   Smith|1991-04-01|     M|  3000|\n",
            "|  Michael|      Rose|        |2000-05-19|     M|  4000|\n",
            "|   Robert|          |Williams|1978-09-05|     M|  4000|\n",
            "|    Maria|      Anne|   Jones|1967-12-01|     F|  4000|\n",
            "|      Jen|      Mary|   Brown|1980-02-17|     F|    -1|\n",
            "+---------+----------+--------+----------+------+------+\n",
            "\n"
          ]
        }
      ]
    },
    {
      "cell_type": "code",
      "source": [
        "#Create or replace a temporary view of a DataFrame using createOrReplaceTempView()\n",
        "sample_df.createOrReplaceTempView(\"employees\")\n",
        "\n",
        "# Use SQL to add a new column \"increment\" with True/False\n",
        "df_new = spark.sql(\"SELECT *, CASE WHEN salary < 4000 THEN True ELSE False END as increment FROM employees\")\n",
        "\n",
        "# Show the result\n",
        "df_new.show()"
      ],
      "metadata": {
        "colab": {
          "base_uri": "https://localhost:8080/"
        },
        "id": "tpc7dhWyi45h",
        "outputId": "47621ae8-683f-4ea9-f713-923052ca2c1e"
      },
      "execution_count": null,
      "outputs": [
        {
          "output_type": "stream",
          "name": "stdout",
          "text": [
            "+---------+----------+--------+----------+------+------+---------+\n",
            "|firstname|middlename|lastname|       dob|gender|salary|increment|\n",
            "+---------+----------+--------+----------+------+------+---------+\n",
            "|    James|          |   Smith|1991-04-01|     M|  3000|     true|\n",
            "|  Michael|      Rose|        |2000-05-19|     M|  4000|    false|\n",
            "|   Robert|          |Williams|1978-09-05|     M|  4000|    false|\n",
            "|    Maria|      Anne|   Jones|1967-12-01|     F|  4000|    false|\n",
            "|      Jen|      Mary|   Brown|1980-02-17|     F|    -1|     true|\n",
            "+---------+----------+--------+----------+------+------+---------+\n",
            "\n"
          ]
        }
      ]
    },
    {
      "cell_type": "code",
      "source": [
        "# add a new column \"is_salary_low\" that indicates if the salary is less than 4000\n",
        "from pyspark.sql.functions import when\n",
        "df_new = sample_df.withColumn(\"is_salary_low\", when(sample_df[\"salary\"] < 4000, \"yes\").otherwise(\"no\"))\n",
        "df_new.show()"
      ],
      "metadata": {
        "colab": {
          "base_uri": "https://localhost:8080/"
        },
        "id": "WferRvDMj7Tk",
        "outputId": "5af9410b-7319-4865-fb87-606bd786ddde"
      },
      "execution_count": null,
      "outputs": [
        {
          "output_type": "stream",
          "name": "stdout",
          "text": [
            "+---------+----------+--------+----------+------+------+-------------+\n",
            "|firstname|middlename|lastname|       dob|gender|salary|is_salary_low|\n",
            "+---------+----------+--------+----------+------+------+-------------+\n",
            "|    James|          |   Smith|1991-04-01|     M|  3000|          yes|\n",
            "|  Michael|      Rose|        |2000-05-19|     M|  4000|           no|\n",
            "|   Robert|          |Williams|1978-09-05|     M|  4000|           no|\n",
            "|    Maria|      Anne|   Jones|1967-12-01|     F|  4000|           no|\n",
            "|      Jen|      Mary|   Brown|1980-02-17|     F|    -1|          yes|\n",
            "+---------+----------+--------+----------+------+------+-------------+\n",
            "\n"
          ]
        }
      ]
    },
    {
      "cell_type": "code",
      "source": [
        "#Read CSV file\n",
        "df = spark.read.csv(\"housing.csv\", header=True)\n",
        "df.show()"
      ],
      "metadata": {
        "colab": {
          "base_uri": "https://localhost:8080/"
        },
        "id": "eTFfv6uMnvCr",
        "outputId": "650c708f-6cdb-4b1c-b76a-26ece5a9eec0"
      },
      "execution_count": null,
      "outputs": [
        {
          "output_type": "stream",
          "name": "stdout",
          "text": [
            "+---------+--------+------------------+-----------+--------------+----------+----------+-------------+------------------+---------------+\n",
            "|longitude|latitude|housing_median_age|total_rooms|total_bedrooms|population|households|median_income|median_house_value|ocean_proximity|\n",
            "+---------+--------+------------------+-----------+--------------+----------+----------+-------------+------------------+---------------+\n",
            "|  -122.23|   37.88|              41.0|      880.0|         129.0|     322.0|     126.0|       8.3252|          452600.0|       NEAR BAY|\n",
            "|  -122.22|   37.86|              21.0|     7099.0|        1106.0|    2401.0|    1138.0|       8.3014|          358500.0|       NEAR BAY|\n",
            "|  -122.24|   37.85|              52.0|     1467.0|         190.0|     496.0|     177.0|       7.2574|          352100.0|       NEAR BAY|\n",
            "|  -122.25|   37.85|              52.0|     1274.0|         235.0|     558.0|     219.0|       5.6431|          341300.0|       NEAR BAY|\n",
            "|  -122.25|   37.85|              52.0|     1627.0|         280.0|     565.0|     259.0|       3.8462|          342200.0|       NEAR BAY|\n",
            "|  -122.25|   37.85|              52.0|      919.0|         213.0|     413.0|     193.0|       4.0368|          269700.0|       NEAR BAY|\n",
            "|  -122.25|   37.84|              52.0|     2535.0|         489.0|    1094.0|     514.0|       3.6591|          299200.0|       NEAR BAY|\n",
            "|  -122.25|   37.84|              52.0|     3104.0|         687.0|    1157.0|     647.0|         3.12|          241400.0|       NEAR BAY|\n",
            "|  -122.26|   37.84|              42.0|     2555.0|         665.0|    1206.0|     595.0|       2.0804|          226700.0|       NEAR BAY|\n",
            "|  -122.25|   37.84|              52.0|     3549.0|         707.0|    1551.0|     714.0|       3.6912|          261100.0|       NEAR BAY|\n",
            "|  -122.26|   37.85|              52.0|     2202.0|         434.0|     910.0|     402.0|       3.2031|          281500.0|       NEAR BAY|\n",
            "|  -122.26|   37.85|              52.0|     3503.0|         752.0|    1504.0|     734.0|       3.2705|          241800.0|       NEAR BAY|\n",
            "|  -122.26|   37.85|              52.0|     2491.0|         474.0|    1098.0|     468.0|        3.075|          213500.0|       NEAR BAY|\n",
            "|  -122.26|   37.84|              52.0|      696.0|         191.0|     345.0|     174.0|       2.6736|          191300.0|       NEAR BAY|\n",
            "|  -122.26|   37.85|              52.0|     2643.0|         626.0|    1212.0|     620.0|       1.9167|          159200.0|       NEAR BAY|\n",
            "|  -122.26|   37.85|              50.0|     1120.0|         283.0|     697.0|     264.0|        2.125|          140000.0|       NEAR BAY|\n",
            "|  -122.27|   37.85|              52.0|     1966.0|         347.0|     793.0|     331.0|        2.775|          152500.0|       NEAR BAY|\n",
            "|  -122.27|   37.85|              52.0|     1228.0|         293.0|     648.0|     303.0|       2.1202|          155500.0|       NEAR BAY|\n",
            "|  -122.26|   37.84|              50.0|     2239.0|         455.0|     990.0|     419.0|       1.9911|          158700.0|       NEAR BAY|\n",
            "|  -122.27|   37.84|              52.0|     1503.0|         298.0|     690.0|     275.0|       2.6033|          162900.0|       NEAR BAY|\n",
            "+---------+--------+------------------+-----------+--------------+----------+----------+-------------+------------------+---------------+\n",
            "only showing top 20 rows\n",
            "\n"
          ]
        }
      ]
    },
    {
      "cell_type": "code",
      "source": [
        "df.createOrReplaceTempView(\"employees\")\n",
        "\n",
        "# use SQL to get the minimum and maximum values of the \"salary\" column\n",
        "min_salary = spark.sql(\"SELECT MIN(median_income) as min_salary FROM employees\").collect()[0][\"min_salary\"]\n",
        "min_salary"
      ],
      "metadata": {
        "colab": {
          "base_uri": "https://localhost:8080/",
          "height": 35
        },
        "id": "03ap0eI3oLJO",
        "outputId": "759c2b02-e1fd-4166-c1ab-e786b8f18adf"
      },
      "execution_count": null,
      "outputs": [
        {
          "output_type": "execute_result",
          "data": {
            "text/plain": [
              "'0.4999'"
            ],
            "application/vnd.google.colaboratory.intrinsic+json": {
              "type": "string"
            }
          },
          "metadata": {},
          "execution_count": 74
        }
      ]
    },
    {
      "cell_type": "code",
      "source": [
        "min_salary = spark.sql(\"SELECT MAX(median_income) as min_salary FROM employees\").collect()[0][\"min_salary\"]\n",
        "min_salary"
      ],
      "metadata": {
        "colab": {
          "base_uri": "https://localhost:8080/",
          "height": 35
        },
        "id": "WOoe6E6foc63",
        "outputId": "b0f59273-3d31-4ba9-9645-386dfb69d8df"
      },
      "execution_count": null,
      "outputs": [
        {
          "output_type": "execute_result",
          "data": {
            "text/plain": [
              "'9.9071'"
            ],
            "application/vnd.google.colaboratory.intrinsic+json": {
              "type": "string"
            }
          },
          "metadata": {},
          "execution_count": 75
        }
      ]
    },
    {
      "cell_type": "code",
      "source": [
        "avg_salary = spark.sql(\"SELECT AVG(median_income) as avg_salary FROM employees\").collect()[0][\"avg_salary\"]\n",
        "\n",
        "# print the result\n",
        "print(\"Average salary:\", avg_salary)"
      ],
      "metadata": {
        "colab": {
          "base_uri": "https://localhost:8080/"
        },
        "id": "f-MciHq9qLIJ",
        "outputId": "116f3046-e8d5-4095-d0eb-672e31b2183e"
      },
      "execution_count": null,
      "outputs": [
        {
          "output_type": "stream",
          "name": "stdout",
          "text": [
            "Average salary: 3.8706710029070246\n"
          ]
        }
      ]
    },
    {
      "cell_type": "code",
      "source": [
        "avg_income_between=spark.sql(\"SELECT AVG(_c7) as Average_Income_between FROM myTable WHERE _c7 <=(SELECT AVG(_c7)FROM myTable) AND _c7 >=(SELECT MIN(_c7) FROM myTable)\")\n",
        "avg_income_between.show()"
      ],
      "metadata": {
        "colab": {
          "base_uri": "https://localhost:8080/"
        },
        "id": "ekU7ZPtArmlP",
        "outputId": "fecd28bd-81e7-49a4-b81d-23c62bab3ace"
      },
      "execution_count": null,
      "outputs": [
        {
          "output_type": "stream",
          "name": "stdout",
          "text": [
            "+----------------------+\n",
            "|Average_Income_between|\n",
            "+----------------------+\n",
            "|    2.6656849300233136|\n",
            "+----------------------+\n",
            "\n"
          ]
        }
      ]
    },
    {
      "cell_type": "code",
      "source": [
        "avg_income_between_higher=spark.sql(\"SELECT AVG(_c7) as Average_Income_between_avgtomax FROM myTable WHERE _c7 >=(SELECT AVG(_c7)FROM myTable) AND _c7 <=(SELECT MAX(_c7) FROM myTable)\")\n",
        "avg_income_between_higher.show()"
      ],
      "metadata": {
        "colab": {
          "base_uri": "https://localhost:8080/"
        },
        "id": "mZh-DDWrr_Wp",
        "outputId": "4f1c00cf-c2b3-4cc2-907f-5b70ce2a9a47"
      },
      "execution_count": null,
      "outputs": [
        {
          "output_type": "stream",
          "name": "stdout",
          "text": [
            "+-------------------------------+\n",
            "|Average_Income_between_avgtomax|\n",
            "+-------------------------------+\n",
            "|              5.545596062992115|\n",
            "+-------------------------------+\n",
            "\n"
          ]
        }
      ]
    },
    {
      "cell_type": "code",
      "source": [
        "# Count the number of duplicate latitude values\n",
        "df.createOrReplaceTempView(\"employees\")\n",
        "duplicate_latitudes_count = spark.sql(\"SELECT latitude, COUNT(*) as count FROM employees GROUP BY latitude HAVING count > 1\").count()\n",
        "duplicate_latitudes_count\n"
      ],
      "metadata": {
        "colab": {
          "base_uri": "https://localhost:8080/"
        },
        "id": "t0_xxdN1z-XU",
        "outputId": "6604ec10-682c-4ddc-8e3d-b1a9a4755b46"
      },
      "execution_count": null,
      "outputs": [
        {
          "output_type": "execute_result",
          "data": {
            "text/plain": [
              "779"
            ]
          },
          "metadata": {},
          "execution_count": 87
        }
      ]
    },
    {
      "cell_type": "code",
      "source": [
        "# Show the list of rows with unique latitude values\n",
        "non_duplicate_df = spark.sql(\"SELECT * FROM employees WHERE latitude NOT IN (SELECT latitude FROM employees GROUP BY latitude HAVING COUNT(*) > 1)\")\n",
        "# Show the non-duplicate rows\n",
        "non_duplicate_df.show()"
      ],
      "metadata": {
        "colab": {
          "base_uri": "https://localhost:8080/"
        },
        "id": "t0npu1mY3r8w",
        "outputId": "e15833f9-7445-4abf-c14b-f4118be1de2f"
      },
      "execution_count": null,
      "outputs": [
        {
          "output_type": "stream",
          "name": "stdout",
          "text": [
            "+---------+--------+------------------+-----------+--------------+----------+----------+-------------+------------------+---------------+\n",
            "|longitude|latitude|housing_median_age|total_rooms|total_bedrooms|population|households|median_income|median_house_value|ocean_proximity|\n",
            "+---------+--------+------------------+-----------+--------------+----------+----------+-------------+------------------+---------------+\n",
            "|   -121.8|   39.64|              25.0|     2202.0|         422.0|    1109.0|     403.0|       2.8306|           87500.0|         INLAND|\n",
            "|  -121.56|   39.69|               8.0|     2836.0|         522.0|    1163.0|     512.0|         3.13|          168300.0|         INLAND|\n",
            "|  -121.46|   39.54|              14.0|     5549.0|        1000.0|    1822.0|     919.0|       2.9562|          142300.0|         INLAND|\n",
            "|  -121.74|   39.38|              27.0|     2596.0|         435.0|    1100.0|     409.0|       2.3243|           85500.0|         INLAND|\n",
            "|  -124.21|   41.77|              17.0|     3461.0|         722.0|    1947.0|     647.0|       2.5795|           68400.0|     NEAR OCEAN|\n",
            "|  -124.16|   41.92|              19.0|     1668.0|         324.0|     841.0|     283.0|       2.1336|           75000.0|     NEAR OCEAN|\n",
            "|   -124.3|   41.84|              17.0|     2677.0|         531.0|    1244.0|     456.0|       3.0313|          103600.0|     NEAR OCEAN|\n",
            "|  -123.91|   41.68|              22.0|     1880.0|         360.0|     743.0|     314.0|       2.9688|          152700.0|      <1H OCEAN|\n",
            "|  -123.83|   41.88|              18.0|     1504.0|         357.0|     660.0|     258.0|         3.13|          116700.0|      <1H OCEAN|\n",
            "|  -119.69|   36.46|              29.0|     1702.0|         301.0|     914.0|     280.0|       2.8125|           79200.0|         INLAND|\n",
            "|  -124.08|   40.91|              13.0|     2522.0|         719.0|    1381.0|     628.0|       1.6667|           78800.0|     NEAR OCEAN|\n",
            "|  -123.76|   41.03|              24.0|     2386.0|         565.0|    1058.0|     414.0|       2.0644|           79800.0|      <1H OCEAN|\n",
            "|  -123.72|   41.09|              19.0|     1970.0|         431.0|    1166.0|     363.0|       1.8208|           50000.0|      <1H OCEAN|\n",
            "|  -123.63|   41.11|              19.0|     1797.0|         384.0|    1033.0|     327.0|       1.4911|           59200.0|      <1H OCEAN|\n",
            "|  -123.66|    41.3|              22.0|     1580.0|         372.0|     686.0|     264.0|       1.8065|           62700.0|      <1H OCEAN|\n",
            "|  -123.52|   41.01|              17.0|     1564.0|         345.0|     517.0|     222.0|       2.1542|           83800.0|         INLAND|\n",
            "|  -124.08|   41.36|              29.0|     1029.0|         239.0|     509.0|     196.0|       2.0156|           62800.0|     NEAR OCEAN|\n",
            "|  -124.06|   41.13|              22.0|     3263.0|         799.0|    1384.0|     578.0|       2.4708|          119400.0|     NEAR OCEAN|\n",
            "|  -124.16|   41.02|              23.0|     1672.0|         385.0|    1060.0|     390.0|       2.1726|           75500.0|     NEAR OCEAN|\n",
            "|  -124.17|   40.74|              17.0|     2026.0|         338.0|     873.0|     313.0|       4.0357|          128900.0|     NEAR OCEAN|\n",
            "+---------+--------+------------------+-----------+--------------+----------+----------+-------------+------------------+---------------+\n",
            "only showing top 20 rows\n",
            "\n"
          ]
        }
      ]
    },
    {
      "cell_type": "code",
      "source": [
        "# show the row with the minimum population\n",
        "min_population_row = spark.sql(\"SELECT latitude, longitude, population FROM employees ORDER BY population ASC LIMIT 1\")\n",
        "\n",
        "min_population_row.show()\n"
      ],
      "metadata": {
        "colab": {
          "base_uri": "https://localhost:8080/"
        },
        "id": "1Y1A2Rmv4Evk",
        "outputId": "7c729473-f2ea-441c-c476-0df211674850"
      },
      "execution_count": null,
      "outputs": [
        {
          "output_type": "stream",
          "name": "stdout",
          "text": [
            "+--------+---------+----------+\n",
            "|latitude|longitude|population|\n",
            "+--------+---------+----------+\n",
            "|   37.95|  -122.37|     100.0|\n",
            "+--------+---------+----------+\n",
            "\n"
          ]
        }
      ]
    },
    {
      "cell_type": "code",
      "source": [
        "min_population = spark.sql(\"SELECT MIN(population) as min_population FROM employees\").collect()[0][\"min_population\"]\n",
        "\n",
        "# select the rows where population is equal to the minimum population\n",
        "min_population_rows = spark.sql(f\"SELECT latitude, longitude, population FROM employees WHERE population = {min_population}\")\n",
        "min_population_rows.show()"
      ],
      "metadata": {
        "colab": {
          "base_uri": "https://localhost:8080/"
        },
        "id": "QBM1I3DK8NFr",
        "outputId": "9b3dd294-caee-494f-e72f-998c3dbc7dfd"
      },
      "execution_count": null,
      "outputs": [
        {
          "output_type": "stream",
          "name": "stdout",
          "text": [
            "+--------+---------+----------+\n",
            "|latitude|longitude|population|\n",
            "+--------+---------+----------+\n",
            "|   37.95|  -122.37|     100.0|\n",
            "|    34.1|  -118.37|     100.0|\n",
            "|   33.96|  -118.37|     100.0|\n",
            "+--------+---------+----------+\n",
            "\n"
          ]
        }
      ]
    },
    {
      "cell_type": "code",
      "source": [],
      "metadata": {
        "id": "M-BBPu_H8zkQ"
      },
      "execution_count": null,
      "outputs": []
    }
  ]
}